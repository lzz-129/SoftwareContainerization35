{
 "cells": [
  {
   "cell_type": "code",
   "execution_count": 1,
   "id": "initial_id",
   "metadata": {
    "collapsed": true,
    "ExecuteTime": {
     "end_time": "2024-01-26T16:59:43.067299300Z",
     "start_time": "2024-01-26T16:59:42.863216800Z"
    }
   },
   "outputs": [],
   "source": [
    "#import packages\n",
    "import pandas as pd\n",
    "import numpy as np\n",
    "import psycopg2\n",
    "from psycopg2 import sql"
   ]
  },
  {
   "cell_type": "code",
   "outputs": [],
   "source": [
    "data_path = './validated/movie_data_validated_0.csv'\n",
    "data = pd.read_csv(data_path)"
   ],
   "metadata": {
    "collapsed": false,
    "ExecuteTime": {
     "end_time": "2024-01-26T17:01:22.191586600Z",
     "start_time": "2024-01-26T17:01:22.088070700Z"
    }
   },
   "id": "eb3ce3244b8ccd29",
   "execution_count": 7
  },
  {
   "cell_type": "code",
   "outputs": [
    {
     "data": {
      "text/plain": "                                   movie_title  title_year language country  \\\n0                                       Avatar        2009  English     USA   \n1     Pirates of the Caribbean: At World's End        2007  English     USA   \n2                                      Spectre        2015  English      UK   \n3                        The Dark Knight Rises        2012  English     USA   \n4                                  John Carter        2012  English     USA   \n...                                        ...         ...      ...     ...   \n4539                               El Mariachi        1992  Spanish     USA   \n4540                           The Mongol King        2005  English     USA   \n4541                                 Newlyweds        2011  English     USA   \n4542                          Shanghai Calling        2012  English     USA   \n4543                         My Date with Drew        2004  English     USA   \n\n      duration content_rating                               genres  \\\n0        178.0          PG-13      Action|Adventure|Fantasy|Sci-Fi   \n1        169.0          PG-13             Action|Adventure|Fantasy   \n2        148.0          PG-13            Action|Adventure|Thriller   \n3        164.0          PG-13                      Action|Thriller   \n4        132.0          PG-13              Action|Adventure|Sci-Fi   \n...        ...            ...                                  ...   \n4539      81.0              R  Action|Crime|Drama|Romance|Thriller   \n4540      84.0          PG-13                          Crime|Drama   \n4541      95.0      Not Rated                         Comedy|Drama   \n4542     100.0          PG-13                 Comedy|Drama|Romance   \n4543      90.0             PG                          Documentary   \n\n                                        movie_imdb_link      director_name  \\\n0     http://www.imdb.com/title/tt0499549/?ref_=fn_t...      James Cameron   \n1     http://www.imdb.com/title/tt0449088/?ref_=fn_t...     Gore Verbinski   \n2     http://www.imdb.com/title/tt2379713/?ref_=fn_t...         Sam Mendes   \n3     http://www.imdb.com/title/tt1345836/?ref_=fn_t...  Christopher Nolan   \n4     http://www.imdb.com/title/tt0401729/?ref_=fn_t...     Andrew Stanton   \n...                                                 ...                ...   \n4539  http://www.imdb.com/title/tt0104815/?ref_=fn_t...   Robert Rodriguez   \n4540  http://www.imdb.com/title/tt0430371/?ref_=fn_t...    Anthony Vallone   \n4541  http://www.imdb.com/title/tt1880418/?ref_=fn_t...       Edward Burns   \n4542  http://www.imdb.com/title/tt2070597/?ref_=fn_t...        Daniel Hsia   \n4543  http://www.imdb.com/title/tt0378407/?ref_=fn_t...           Jon Gunn   \n\n      imdb_score  num_voted_users        gross  \\\n0            7.9           886204  760505847.0   \n1            7.1           471220  309404152.0   \n2            6.8           275868  200074175.0   \n3            8.5          1144337  448130642.0   \n4            6.6           212204   73058679.0   \n...          ...              ...          ...   \n4539         6.9            52055    2040920.0   \n4540         7.8               36          NaN   \n4541         6.4             1338       4584.0   \n4542         6.3             1255      10443.0   \n4543         6.6             4285      85222.0   \n\n                                              actors  \n0             CCH Pounder|Joel David Moore|Wes Studi  \n1           Johnny Depp|Orlando Bloom|Jack Davenport  \n2      Christoph Waltz|Rory Kinnear|Stephanie Sigman  \n3      Tom Hardy|Christian Bale|Joseph Gordon-Levitt  \n4          Daryl Sabara|Samantha Morton|Polly Walker  \n...                                              ...  \n4539  Carlos Gallardo|Peter Marquardt|Consuelo Gómez  \n4540    Richard Jewell|John Considine|Sara Stepnicka  \n4541  Kerry Bishé|Caitlin FitzGerald|Daniella Pineda  \n4542             Alan Ruck|Daniel Henney|Eliza Coupe  \n4543           John August|Brian Herzlinger|Jon Gunn  \n\n[4544 rows x 13 columns]",
      "text/html": "<div>\n<style scoped>\n    .dataframe tbody tr th:only-of-type {\n        vertical-align: middle;\n    }\n\n    .dataframe tbody tr th {\n        vertical-align: top;\n    }\n\n    .dataframe thead th {\n        text-align: right;\n    }\n</style>\n<table border=\"1\" class=\"dataframe\">\n  <thead>\n    <tr style=\"text-align: right;\">\n      <th></th>\n      <th>movie_title</th>\n      <th>title_year</th>\n      <th>language</th>\n      <th>country</th>\n      <th>duration</th>\n      <th>content_rating</th>\n      <th>genres</th>\n      <th>movie_imdb_link</th>\n      <th>director_name</th>\n      <th>imdb_score</th>\n      <th>num_voted_users</th>\n      <th>gross</th>\n      <th>actors</th>\n    </tr>\n  </thead>\n  <tbody>\n    <tr>\n      <th>0</th>\n      <td>Avatar</td>\n      <td>2009</td>\n      <td>English</td>\n      <td>USA</td>\n      <td>178.0</td>\n      <td>PG-13</td>\n      <td>Action|Adventure|Fantasy|Sci-Fi</td>\n      <td>http://www.imdb.com/title/tt0499549/?ref_=fn_t...</td>\n      <td>James Cameron</td>\n      <td>7.9</td>\n      <td>886204</td>\n      <td>760505847.0</td>\n      <td>CCH Pounder|Joel David Moore|Wes Studi</td>\n    </tr>\n    <tr>\n      <th>1</th>\n      <td>Pirates of the Caribbean: At World's End</td>\n      <td>2007</td>\n      <td>English</td>\n      <td>USA</td>\n      <td>169.0</td>\n      <td>PG-13</td>\n      <td>Action|Adventure|Fantasy</td>\n      <td>http://www.imdb.com/title/tt0449088/?ref_=fn_t...</td>\n      <td>Gore Verbinski</td>\n      <td>7.1</td>\n      <td>471220</td>\n      <td>309404152.0</td>\n      <td>Johnny Depp|Orlando Bloom|Jack Davenport</td>\n    </tr>\n    <tr>\n      <th>2</th>\n      <td>Spectre</td>\n      <td>2015</td>\n      <td>English</td>\n      <td>UK</td>\n      <td>148.0</td>\n      <td>PG-13</td>\n      <td>Action|Adventure|Thriller</td>\n      <td>http://www.imdb.com/title/tt2379713/?ref_=fn_t...</td>\n      <td>Sam Mendes</td>\n      <td>6.8</td>\n      <td>275868</td>\n      <td>200074175.0</td>\n      <td>Christoph Waltz|Rory Kinnear|Stephanie Sigman</td>\n    </tr>\n    <tr>\n      <th>3</th>\n      <td>The Dark Knight Rises</td>\n      <td>2012</td>\n      <td>English</td>\n      <td>USA</td>\n      <td>164.0</td>\n      <td>PG-13</td>\n      <td>Action|Thriller</td>\n      <td>http://www.imdb.com/title/tt1345836/?ref_=fn_t...</td>\n      <td>Christopher Nolan</td>\n      <td>8.5</td>\n      <td>1144337</td>\n      <td>448130642.0</td>\n      <td>Tom Hardy|Christian Bale|Joseph Gordon-Levitt</td>\n    </tr>\n    <tr>\n      <th>4</th>\n      <td>John Carter</td>\n      <td>2012</td>\n      <td>English</td>\n      <td>USA</td>\n      <td>132.0</td>\n      <td>PG-13</td>\n      <td>Action|Adventure|Sci-Fi</td>\n      <td>http://www.imdb.com/title/tt0401729/?ref_=fn_t...</td>\n      <td>Andrew Stanton</td>\n      <td>6.6</td>\n      <td>212204</td>\n      <td>73058679.0</td>\n      <td>Daryl Sabara|Samantha Morton|Polly Walker</td>\n    </tr>\n    <tr>\n      <th>...</th>\n      <td>...</td>\n      <td>...</td>\n      <td>...</td>\n      <td>...</td>\n      <td>...</td>\n      <td>...</td>\n      <td>...</td>\n      <td>...</td>\n      <td>...</td>\n      <td>...</td>\n      <td>...</td>\n      <td>...</td>\n      <td>...</td>\n    </tr>\n    <tr>\n      <th>4539</th>\n      <td>El Mariachi</td>\n      <td>1992</td>\n      <td>Spanish</td>\n      <td>USA</td>\n      <td>81.0</td>\n      <td>R</td>\n      <td>Action|Crime|Drama|Romance|Thriller</td>\n      <td>http://www.imdb.com/title/tt0104815/?ref_=fn_t...</td>\n      <td>Robert Rodriguez</td>\n      <td>6.9</td>\n      <td>52055</td>\n      <td>2040920.0</td>\n      <td>Carlos Gallardo|Peter Marquardt|Consuelo Gómez</td>\n    </tr>\n    <tr>\n      <th>4540</th>\n      <td>The Mongol King</td>\n      <td>2005</td>\n      <td>English</td>\n      <td>USA</td>\n      <td>84.0</td>\n      <td>PG-13</td>\n      <td>Crime|Drama</td>\n      <td>http://www.imdb.com/title/tt0430371/?ref_=fn_t...</td>\n      <td>Anthony Vallone</td>\n      <td>7.8</td>\n      <td>36</td>\n      <td>NaN</td>\n      <td>Richard Jewell|John Considine|Sara Stepnicka</td>\n    </tr>\n    <tr>\n      <th>4541</th>\n      <td>Newlyweds</td>\n      <td>2011</td>\n      <td>English</td>\n      <td>USA</td>\n      <td>95.0</td>\n      <td>Not Rated</td>\n      <td>Comedy|Drama</td>\n      <td>http://www.imdb.com/title/tt1880418/?ref_=fn_t...</td>\n      <td>Edward Burns</td>\n      <td>6.4</td>\n      <td>1338</td>\n      <td>4584.0</td>\n      <td>Kerry Bishé|Caitlin FitzGerald|Daniella Pineda</td>\n    </tr>\n    <tr>\n      <th>4542</th>\n      <td>Shanghai Calling</td>\n      <td>2012</td>\n      <td>English</td>\n      <td>USA</td>\n      <td>100.0</td>\n      <td>PG-13</td>\n      <td>Comedy|Drama|Romance</td>\n      <td>http://www.imdb.com/title/tt2070597/?ref_=fn_t...</td>\n      <td>Daniel Hsia</td>\n      <td>6.3</td>\n      <td>1255</td>\n      <td>10443.0</td>\n      <td>Alan Ruck|Daniel Henney|Eliza Coupe</td>\n    </tr>\n    <tr>\n      <th>4543</th>\n      <td>My Date with Drew</td>\n      <td>2004</td>\n      <td>English</td>\n      <td>USA</td>\n      <td>90.0</td>\n      <td>PG</td>\n      <td>Documentary</td>\n      <td>http://www.imdb.com/title/tt0378407/?ref_=fn_t...</td>\n      <td>Jon Gunn</td>\n      <td>6.6</td>\n      <td>4285</td>\n      <td>85222.0</td>\n      <td>John August|Brian Herzlinger|Jon Gunn</td>\n    </tr>\n  </tbody>\n</table>\n<p>4544 rows × 13 columns</p>\n</div>"
     },
     "execution_count": 8,
     "metadata": {},
     "output_type": "execute_result"
    }
   ],
   "source": [
    "data"
   ],
   "metadata": {
    "collapsed": false,
    "ExecuteTime": {
     "end_time": "2024-01-26T17:01:23.826696300Z",
     "start_time": "2024-01-26T17:01:22.720444300Z"
    }
   },
   "id": "8f4b0251e4a42389",
   "execution_count": 8
  },
  {
   "cell_type": "code",
   "outputs": [
    {
     "name": "stdout",
     "output_type": "stream",
     "text": [
      "Total rows deleted: 1\n"
     ]
    }
   ],
   "source": [
    "initial_row_count = data.shape[0]\n",
    "\n",
    "data = data.dropna(subset='actors')\n",
    "\n",
    "final_row_count = data.shape[0]\n",
    "rows_deleted = initial_row_count - final_row_count\n",
    "print(f\"Total rows deleted: {rows_deleted}\")"
   ],
   "metadata": {
    "collapsed": false,
    "ExecuteTime": {
     "end_time": "2024-01-26T17:01:39.775826600Z",
     "start_time": "2024-01-26T17:01:39.655717600Z"
    }
   },
   "id": "1211734e9f28f3fe",
   "execution_count": 9
  },
  {
   "cell_type": "markdown",
   "source": [
    "## connect to gres"
   ],
   "metadata": {
    "collapsed": false
   },
   "id": "b5f37823a6b62de9"
  },
  {
   "cell_type": "code",
   "outputs": [],
   "source": [
    "params = {\n",
    "    'database': 'kubedb',\n",
    "    'user': 'db_user',\n",
    "    'password': 'user@kube',\n",
    "    'host': '127.0.0.1',\n",
    "    'port': 5432\n",
    "}"
   ],
   "metadata": {
    "collapsed": false,
    "ExecuteTime": {
     "end_time": "2024-01-26T17:01:54.114324600Z",
     "start_time": "2024-01-26T17:01:54.057095500Z"
    }
   },
   "id": "e07f074b08f8533a",
   "execution_count": 12
  },
  {
   "cell_type": "markdown",
   "source": [
    "## Create table"
   ],
   "metadata": {
    "collapsed": false
   },
   "id": "f7b675ec707db832"
  },
  {
   "cell_type": "code",
   "outputs": [],
   "source": [
    "conn = psycopg2.connect(**params)\n",
    "cur = conn.cursor()"
   ],
   "metadata": {
    "collapsed": false,
    "ExecuteTime": {
     "end_time": "2024-01-26T17:01:55.890577300Z",
     "start_time": "2024-01-26T17:01:55.662077200Z"
    }
   },
   "id": "d5789356dc15eb5",
   "execution_count": 13
  },
  {
   "cell_type": "code",
   "outputs": [],
   "source": [],
   "metadata": {
    "collapsed": false
   },
   "id": "5a35a03ca759d94b"
  },
  {
   "cell_type": "markdown",
   "source": [
    "### movies"
   ],
   "metadata": {
    "collapsed": false
   },
   "id": "138de32d5ce39da5"
  },
  {
   "cell_type": "code",
   "outputs": [],
   "source": [
    "create_table_query = '''\n",
    "CREATE TABLE IF NOT EXISTS movie (\n",
    "    id SERIAL PRIMARY KEY,\n",
    "    movie_title TEXT, /*string*/\n",
    "    title_year INT,\n",
    "    language TEXT,\n",
    "    country TEXT,\n",
    "    duration INT,\n",
    "    content_rating TEXT,\n",
    "    movie_imdb_link TEXT,\n",
    "    director_name TEXT,\n",
    "    imdb_score REAL, /*float*/\n",
    "    num_voted_users INT,\n",
    "    gross REAL\n",
    ");\n",
    "'''\n",
    "cur.execute(create_table_query)\n",
    "conn.commit()"
   ],
   "metadata": {
    "collapsed": false,
    "ExecuteTime": {
     "end_time": "2024-01-26T17:03:23.418544200Z",
     "start_time": "2024-01-26T17:03:23.275974900Z"
    }
   },
   "id": "16937cca03dc352c",
   "execution_count": 20
  },
  {
   "cell_type": "code",
   "outputs": [],
   "source": [
    "#TODO: print columns\n",
    "# table_schema_query = '''\n",
    "#     SELECT table_schema\n",
    "#     FROM information_schema.tables\n",
    "#     WHERE table_name = %s\n",
    "# '''\n",
    "# table = 'movies'\n",
    "# cur.execute(table_schema_query, (table,))\n",
    "# \n",
    "# schema = cur.fetchall()\n",
    "# if schema:\n",
    "#     print(schema[0])"
   ],
   "metadata": {
    "collapsed": false
   },
   "id": "b11f756129639760",
   "execution_count": null
  },
  {
   "cell_type": "code",
   "outputs": [],
   "source": [
    "# cur.execute(\"SELECT * FROM movies\")\n",
    "# rows = cur.fetchall()\n",
    "# for row in rows:\n",
    "#     print(row)"
   ],
   "metadata": {
    "collapsed": false
   },
   "id": "cc694646506b5a0",
   "execution_count": null
  },
  {
   "cell_type": "code",
   "outputs": [],
   "source": [
    "# cur.execute('''DROP TABLE genres CASCADE ''')\n",
    "# conn.commit()"
   ],
   "metadata": {
    "collapsed": false
   },
   "id": "525d649e5331c3a0",
   "execution_count": null
  },
  {
   "cell_type": "markdown",
   "source": [
    "### Genre"
   ],
   "metadata": {
    "collapsed": false
   },
   "id": "5e92ffdf5763f661"
  },
  {
   "cell_type": "code",
   "outputs": [],
   "source": [
    "create_table_query = '''\n",
    "CREATE TABLE IF NOT EXISTS genre (\n",
    "    id SERIAL PRIMARY KEY,\n",
    "    name TEXT UNIQUE /* UNIQUE: 每一行都必须有一个唯一的值，不允许有重复*/\n",
    ");\n",
    "'''\n",
    "cur.execute(create_table_query)\n",
    "conn.commit()"
   ],
   "metadata": {
    "collapsed": false,
    "ExecuteTime": {
     "end_time": "2024-01-26T17:03:31.928709600Z",
     "start_time": "2024-01-26T17:03:31.753390100Z"
    }
   },
   "id": "69f5a2c6a0cdadfd",
   "execution_count": 21
  },
  {
   "cell_type": "code",
   "outputs": [],
   "source": [
    "create_table_query = '''\n",
    "CREATE TABLE IF NOT EXISTS movie_genre (\n",
    "    movie_id INT REFERENCES movie(id),\n",
    "    genre_id INT REFERENCES genre(id),\n",
    "    PRIMARY KEY (movie_id, genre_id)\n",
    ");\n",
    "'''\n",
    "cur.execute(create_table_query)\n",
    "conn.commit()"
   ],
   "metadata": {
    "collapsed": false,
    "ExecuteTime": {
     "end_time": "2024-01-26T17:03:39.810090500Z",
     "start_time": "2024-01-26T17:03:39.636278600Z"
    }
   },
   "id": "af0b531599124dc6",
   "execution_count": 22
  },
  {
   "cell_type": "markdown",
   "source": [
    "### Actor"
   ],
   "metadata": {
    "collapsed": false
   },
   "id": "6af9e26355cf7b59"
  },
  {
   "cell_type": "code",
   "outputs": [],
   "source": [
    "create_table_query = '''\n",
    "CREATE TABLE IF NOT EXISTS actor (\n",
    "    id SERIAL PRIMARY KEY,\n",
    "    name TEXT UNIQUE\n",
    ");\n",
    "'''\n",
    "cur.execute(create_table_query)\n",
    "conn.commit()"
   ],
   "metadata": {
    "collapsed": false,
    "ExecuteTime": {
     "end_time": "2024-01-26T17:03:54.335663Z",
     "start_time": "2024-01-26T17:03:54.136461200Z"
    }
   },
   "id": "e267b5187e2443b9",
   "execution_count": 23
  },
  {
   "cell_type": "code",
   "outputs": [],
   "source": [
    "create_table_query = '''\n",
    "CREATE TABLE IF NOT EXISTS movie_actor (\n",
    "    movie_id INT REFERENCES movie(id),\n",
    "    actor_id INT REFERENCES actor(id),\n",
    "    PRIMARY KEY (movie_id, actor_id)\n",
    ");\n",
    "'''\n",
    "cur.execute(create_table_query)\n",
    "conn.commit()"
   ],
   "metadata": {
    "collapsed": false,
    "ExecuteTime": {
     "end_time": "2024-01-26T17:03:59.837600700Z",
     "start_time": "2024-01-26T17:03:59.716390500Z"
    }
   },
   "id": "8585b7c2c5eb0ba9",
   "execution_count": 24
  },
  {
   "cell_type": "code",
   "outputs": [],
   "source": [
    "cur.close()\n",
    "conn.close()"
   ],
   "metadata": {
    "collapsed": false,
    "ExecuteTime": {
     "end_time": "2024-01-26T17:04:01.308719200Z",
     "start_time": "2024-01-26T17:04:01.229623Z"
    }
   },
   "id": "ee6858a7890e640",
   "execution_count": 25
  },
  {
   "cell_type": "markdown",
   "source": [
    "## Insert data"
   ],
   "metadata": {
    "collapsed": false
   },
   "id": "5b0cef2d84d16c9d"
  },
  {
   "cell_type": "code",
   "outputs": [],
   "source": [
    "conn = psycopg2.connect(**params)\n",
    "cur = conn.cursor()"
   ],
   "metadata": {
    "collapsed": false,
    "ExecuteTime": {
     "end_time": "2024-01-26T17:04:04.572470700Z",
     "start_time": "2024-01-26T17:04:04.079290500Z"
    }
   },
   "id": "574689da10cb930e",
   "execution_count": 26
  },
  {
   "cell_type": "markdown",
   "source": [
    "### movie"
   ],
   "metadata": {
    "collapsed": false
   },
   "id": "43707f1d071193f2"
  },
  {
   "cell_type": "code",
   "outputs": [],
   "source": [
    "my_table = 'movie'\n",
    "insert_columns = ['movie_title', 'title_year', 'language', 'country', 'duration', 'content_rating', 'movie_imdb_link', 'director_name', 'imdb_score', 'num_voted_users', 'gross']\n",
    "\n",
    "# Building the query string safely\n",
    "column_identifiers = [sql.Identifier(column) for column in insert_columns]\n",
    "insert_query = sql.SQL(\n",
    "    'INSERT INTO {table} ({fields}) '\n",
    "    'VALUES ({values})'\n",
    ").format(\n",
    "    table=sql.Identifier(my_table),\n",
    "    fields=sql.SQL(', ').join(map(sql.Identifier, insert_columns)),\n",
    "    values=sql.SQL(', ').join(sql.Placeholder() * len(insert_columns))\n",
    ")\n",
    "\n",
    "#data\n",
    "data_to_insert = data[insert_columns]\n",
    "\n",
    "# Executing the query with a cursor\n",
    "for i, row in data_to_insert.iterrows():\n",
    "    values = [row[col] for col in insert_columns]\n",
    "    cur.execute(insert_query, values)\n",
    "    \n",
    "conn.commit()"
   ],
   "metadata": {
    "collapsed": false,
    "ExecuteTime": {
     "end_time": "2024-01-26T17:04:40.761974300Z",
     "start_time": "2024-01-26T17:04:25.481357700Z"
    }
   },
   "id": "4ac16918ef6781f2",
   "execution_count": 27
  },
  {
   "cell_type": "markdown",
   "source": [
    "### genres"
   ],
   "metadata": {
    "collapsed": false
   },
   "id": "c97b15e9f2a9440a"
  },
  {
   "cell_type": "code",
   "outputs": [
    {
     "name": "stdout",
     "output_type": "stream",
     "text": [
      "['Action', 'Adventure', 'Animation', 'Biography', 'Comedy', 'Crime', 'Documentary', 'Drama', 'Family', 'Fantasy', 'Film-Noir', 'History', 'Horror', 'Music', 'Musical', 'Mystery', 'News', 'Romance', 'Sci-Fi', 'Sport', 'Thriller', 'War', 'Western']\n"
     ]
    }
   ],
   "source": [
    "unique_genres = data['genres'].str.get_dummies(sep='|').columns.tolist()\n",
    "print(unique_genres)"
   ],
   "metadata": {
    "collapsed": false,
    "ExecuteTime": {
     "end_time": "2024-01-26T17:04:41.476046400Z",
     "start_time": "2024-01-26T17:04:40.779556800Z"
    }
   },
   "id": "3b7239cbd98ec388",
   "execution_count": 28
  },
  {
   "cell_type": "code",
   "outputs": [],
   "source": [
    "for genre in unique_genres:\n",
    "    cur.execute(\"\"\"\n",
    "        INSERT INTO genre (name)\n",
    "        VALUES (%s)\n",
    "        ON CONFLICT (name) DO NOTHING;\n",
    "    \"\"\", (genre,))\n",
    "    \n",
    "conn.commit()"
   ],
   "metadata": {
    "collapsed": false,
    "ExecuteTime": {
     "end_time": "2024-01-26T17:04:49.845570700Z",
     "start_time": "2024-01-26T17:04:49.702026200Z"
    }
   },
   "id": "68b8443ecdf56be2",
   "execution_count": 29
  },
  {
   "cell_type": "code",
   "outputs": [
    {
     "name": "stdout",
     "output_type": "stream",
     "text": [
      "[(1, 'Action'), (2, 'Adventure'), (3, 'Animation'), (4, 'Biography'), (5, 'Comedy'), (6, 'Crime'), (7, 'Documentary'), (8, 'Drama'), (9, 'Family'), (10, 'Fantasy'), (11, 'Film-Noir'), (12, 'History'), (13, 'Horror'), (14, 'Music'), (15, 'Musical'), (16, 'Mystery'), (17, 'News'), (18, 'Romance'), (19, 'Sci-Fi'), (20, 'Sport'), (21, 'Thriller'), (22, 'War'), (23, 'Western')]\n"
     ]
    }
   ],
   "source": [
    "cur.execute(\"SELECT * FROM genre\")\n",
    "genre_id = cur.fetchall()\n",
    "print(genre_id)"
   ],
   "metadata": {
    "collapsed": false,
    "ExecuteTime": {
     "end_time": "2024-01-26T17:04:52.564844Z",
     "start_time": "2024-01-26T17:04:52.508206100Z"
    }
   },
   "id": "26ee1c03a33906e3",
   "execution_count": 30
  },
  {
   "cell_type": "markdown",
   "source": [
    "#### movie-genre"
   ],
   "metadata": {
    "collapsed": false
   },
   "id": "1bd0ddcd8f0ac12e"
  },
  {
   "cell_type": "code",
   "outputs": [],
   "source": [
    "for i, row in data.iterrows():\n",
    "    movie_title = row['movie_title']\n",
    "    genres = row['genres'].split('|')\n",
    "    \n",
    "    for genre in genres:\n",
    "        # 获取当前movie的id\n",
    "        cur.execute(\"\"\"SELECT id FROM movie WHERE movie_title = %s;\"\"\", (movie_title,))\n",
    "        movie_id = cur.fetchone()[0]\n",
    "        \n",
    "        # 获取当前genre的id\n",
    "        cur.execute(\"\"\"SELECT id FROM genre WHERE name = %s;\"\"\", (genre,))\n",
    "        genre_id = cur.fetchone()[0]\n",
    "        \n",
    "        # 插入movie和genre的关联到movie_genre_association表\n",
    "        cur.execute(\"\"\"\n",
    "            INSERT INTO movie_genre (movie_id, genre_id)\n",
    "            VALUES (%s, %s)\n",
    "            ON CONFLICT DO NOTHING;\n",
    "        \"\"\", (movie_id, genre_id))\n",
    "\n",
    "# 提交事务至数据库\n",
    "conn.commit()"
   ],
   "metadata": {
    "collapsed": false,
    "ExecuteTime": {
     "end_time": "2024-01-26T17:06:53.591242200Z",
     "start_time": "2024-01-26T17:05:14.884332100Z"
    }
   },
   "id": "250df9009999090b",
   "execution_count": 31
  },
  {
   "cell_type": "markdown",
   "source": [
    "### Actor"
   ],
   "metadata": {
    "collapsed": false
   },
   "id": "d77324aa47c04283"
  },
  {
   "cell_type": "code",
   "outputs": [
    {
     "name": "stdout",
     "output_type": "stream",
     "text": [
      "['50 Cent', 'A. Michael Baldwin', 'A.J. Buckley', 'A.J. Langer', 'AJ Michalka', 'Aaliyah', 'Aaron Ashmore', 'Aaron Hughes', 'Aaron Stanford', 'Aaron Staton', 'Aaron Yoo', 'Aasheekaa Bathija', 'Aasif Mandvi', 'Abbie Cornish', 'Abby Elliott', 'Abby Mukiibi Nkaaga', 'Abhishek Bachchan', 'Abigail Spencer', 'Abraham Benrubi', 'Adam Alexi-Malle', 'Adam Arkin', 'Adam Baldwin', 'Adam Boyer', 'Adam Brown', 'Adam Butcher', 'Adam Carolla', 'Adam Copeland', 'Adam Garcia', 'Adam Goldberg', 'Adam Hicks', 'Adam Lamberg', 'Adam LeFevre', 'Adam Ratcliffe', 'Adam Rayner', 'Adam Sandler', 'Adam Scott', 'Adam Trese', 'Adel Karam', 'Adelaide Kane', 'Aden Young', 'Adhir Kalyan', 'Aditya Roy Kapoor', 'Adolphe Menjou', 'Adrian Alonso', 'Adrian Gonzalez', 'Adrian Holmes', 'Adrian Lester', 'Adrian Martinez', 'Adrian Pasdar', 'Adrian Paul', 'Adriana Barraza', 'Adriana Caselotti', 'Adriane Lenox', 'Adriano Giannini', 'Adrien Dorval', 'Adrienne Barbeau', 'Adrienne Frantz', 'Adrienne King', 'Adrienne Pickering', 'Agame Malembo-Emene', 'Agata Kulesza', 'Agata Trzebuchowska', 'Agnes Bruckner', 'Agnes Moorehead', 'Ah-sung Ko', 'Ahmad Massad', 'Ahmed Best', 'Ahmed Hassan', 'Ahmet Ertegun', \"Ahna O'Reilly\", 'Ahney Her', 'Aida Elkashef', 'Aida Folch', 'Aida Turturro', 'Aidan McArdle', 'Aidan Quinn', 'Aidan Turner', 'Aimee Garcia', 'Aimee Teegarden', 'Aisha Hinds', 'Aisha Tyler', 'Ajay Naidu', 'Aki Aleong', 'Akie Kotabe', 'Akima', 'Akon', 'Aksel Hennie', 'Al Cliver', 'Al Freeman Jr.', 'Al Gore', 'Al Leong', 'Al Pacino', 'Al Roker', 'Al Sapienza', 'Alan Bates', 'Alan D. Purwin', 'Alan Dale', 'Alan David', 'Alan Ford', 'Alan Hale', 'Alan Hale Jr.', 'Alan Oppenheimer', 'Alan Rickman', 'Alan Ruck', 'Alan Taylor', 'Alan Van Sprang', 'Alan Williams', 'Alan Young', 'Alanna Ubach', 'Alastair Duncan', 'Alba Rohrwacher', 'Albert Brooks', 'Albert Delpy', 'Albert Dupontel', 'Albert Finney', 'Albert Maysles', 'Albert Salmi', 'Alden Ehrenreich', 'Aldis Hodge', 'Aldo Sambrell', 'Alejandro Furth', 'Aleksa Palladino', 'Aleksandr Bashirov', 'Aleksey Chadov', 'Alessandra Mastronardi', 'Alessandro Nivola', 'Alex Borstein', 'Alex Désert', 'Alex Gibney', 'Alex Huszar', 'Alex Jennings', 'Alex Karpovsky', 'Alex Kendrick', 'Alex Macqueen', 'Alex McArthur', 'Alex Meraz', 'Alex Pettyfer', 'Alex Rocco', 'Alex Russell', 'Alex Veadov', 'Alex Vincent', 'Alex Winter', 'Alexa Davalos', 'Alexa Havins', 'Alexa PenaVega', 'Alexander Gould', 'Alexander Skarsgård', 'Alexander Vlahos', 'Alexander Wraith', 'Alexandra Breckenridge', 'Alexandra Callas', 'Alexandra Holden', 'Alexandra Maria Lara', 'Alexandra Rapaport', 'Alexandra Silber', 'Alexandre Rodrigues', 'Alexandru Potocean', 'Alexia Fast', 'Alexia Rasmussen', 'Alexis Arquette', 'Alexis Biesiada', 'Alexis Dziena', 'Alfie Allen', 'Alfre Woodard', 'Ali Hillis', 'Alia Shawkat', 'Alice Braga', 'Alice Englert', 'Alice Evans', 'Alice Greczyn', 'Alice Krige', 'Alice Olivia Clarke', 'Alice Playten', 'Alicia Goranson', 'Alicia Keys', 'Alicia Sixtos', 'Alicia Witt', 'Alicia Ziegler', 'Alicja Bachleda', 'Alisha Boe', 'Alison Brie', 'Alison Chand', 'Alison Doody', 'Alison Lohman', 'Alissa Dean', 'Alix Freihage', 'Allegra Carpenter', 'Allen Covert', 'Allen Leech', 'Allen Payne', 'Allison Dean', 'Allison Miller', 'Allison Tolman', 'Ally Sheedy', 'Ally Walker', 'Alona Tal', 'Alonna Shaw', 'Alun Armstrong', 'Alycia Debnam-Carey', 'Alyson Hannigan', 'Alyson Stoner', 'Amanda Detmer', 'Amanda Kearsan', 'Amanda Plummer', 'Amanda Redman', 'Amanda Schull', 'Amanda Tilson', 'Amanda Wyss', 'Amber Armstrong', 'Amber Benson', 'Amber Rose Revah', 'Amber Stevens West', 'Amber Valletta', 'Amelia Giancarlo', 'Amelia Warner', 'America Ferrera', 'America Olivo', 'Ami Ayalon', 'Amiah Miller', 'Amidou', 'Amir Farrokh Hashemian', 'Amir Talai', 'Aml Ameen', 'Amr Waked', 'Amrish Puri', 'Amy Brenneman', 'Amy Hargreaves', 'Amy Hill', 'Amy Irving', 'Amy Locane', 'Amy Lucas', 'Amy Madigan', 'Amy Poehler', 'Amy Ryan', 'Amy Schumer', 'Amy Sedaris', 'Amy Steel', 'Amy Stewart', 'Amy Warren', 'Amy Yasbeck', 'Ana Claudia Talancón', 'Ana Gasteyer', 'Ana Imnadze', 'Ana de la Reguera', 'Anamaria Marinca', 'Anatoliy Solonitsyn', 'Anders Holm', 'Andre Braugher', 'Andrea Corr', 'Andrea Di Stefano', 'Andrea Frankle', 'Andrea Martin', 'Andrea Ros', 'Andrea Savage', 'Andrea Vergara', 'Andrew Airlie', 'Andrew Bryniarski', 'Andrew Bujalski', 'Andrew Daly', 'Andrew Dice Clay', 'Andrew Fiscella', 'Andrew Garfield', 'Andrew Keegan', 'Andrew Keir', 'Andrew Lawrence', 'Andrew Rannells', 'Andrew Robinson', 'Andrew Simpson', 'Andrew Wilson', 'André Dussollier', 'André Ramiro', 'André Wilms', 'André the Giant', 'Andrés Montiel', 'Andy Cohn', 'Andy Davoli', 'Andy Dick', 'Andy Lau', 'Andy On', 'Andy Richter', 'Ane Dahl Torp', 'Anella Vastola', 'Angel Coulby', 'Angel David', 'Angela Bettis', 'Angela Cartwright', 'Angela Featherstone', 'Angela Jones', 'Angela Nordeng', 'Angela Sarafyan', 'Angelica Lee', 'Angeliki Papoulia', 'Angelina Armani', 'Angelina Jolie Pitt', 'Angell Conwell', 'Angelo Anthony Pizza', 'Angelo Rossitto', 'Angelo Tsarouchas', 'Angie Dickinson', 'Angus Barnett', 'Angus Macfadyen', 'Angus Sampson', 'Angus Scrimm', 'Angus T. Jones', 'Angélica Sancio', 'Anika Noni Rose', 'Anil Kapoor', 'Anil Kumar', 'Anita Briem', 'Anita Mui', 'Anita Page', 'Anjelica Huston', 'Ann Dowd', 'Ann Gillis', 'Ann Miller', 'Ann Morgan Guilbert', 'Ann Talman', 'Ann-Margret', 'Anna Friel', 'Anna Gunn', 'Anna Karina', 'Anna Katarina', 'Anna Kendrick', 'Anna Madeley', 'Anna Vareschi', 'Anna-Louise Plowman', 'Annabella Sciorra', 'Annabelle Wallis', 'Annabeth Gish', 'Anne Archer', 'Anne Bancroft', 'Anne Hathaway', 'Anne Heche', 'Anne Meara', 'Anne Parillaud', 'Anne-Marie Duff', 'Anneliese van der Pol', 'Annelyse Ahmad', 'Annet Mahendru', 'Annette Badland', 'Annie Golden', 'Annie Parisse', 'Anslem Richardson', \"Anthony 'Citric' Campos\", 'Anthony Burrell', 'Anthony Chau-Sang Wong', 'Anthony Daniels', 'Anthony Edwards', 'Anthony Heald', 'Anthony Hopkins', 'Anthony Johnson', 'Anthony LaPaglia', 'Anthony Powell', 'Anthony Reynolds', 'Anthony Simcoe', 'Anthony Zerbe', 'Antoni Corone', 'Antonio Sabato Jr.', 'Antonio de la Torre', 'Antony Starr', 'Anupam Kher', 'Anwar Congo', 'April Winchell', 'Ara Celi', 'Aramis Knight', 'Arben Bajraktaraj', 'Arcelia Ramírez', 'Archie Kao', 'Archie Panjabi', 'Aretha Franklin', 'Ari Folman', 'Ari Gold', 'Ari Graynor', 'Aria Noelle Curzon', 'Ariana Neal', 'Ariana Richards', 'Ariane Labed', 'Ariel Gade', 'Aries Spears', 'Arliss Howard', 'Arly Jover', 'Armando Riesco', 'Armin Mueller-Stahl', 'Armin Rohde', 'Armin Shimerman', 'Art Hindle', 'Art Malik', 'Arthur Agee', \"Arthur O'Connell\", 'Arturo Castro', 'Artyom Bogucharskiy', 'Aryana Engineer', 'Ashleigh Gryzko', 'Ashley Ashida Dixon', 'Ashley Bell', 'Ashley Gerasimovich', 'Ashley Hinshaw', 'Ashley Laurence', 'Ashley Martin', 'Ashley Palmer', 'Ashley Rickards', 'Ashley Scott', 'Ashley Tramonte', 'Ashley Walters', 'Ashley Williams', 'Ashraf Barhom', 'Asin', 'Athina Rachel Tsangari', 'Ato Essandoh', 'Atom Egoyan', 'Atticus Shaffer', 'Aubrey Poo', 'Audrey Fleurot', 'August Diehl', 'Augustus Prew', 'Aunjanue Ellis', 'Austin Lyon', 'Austin Nichols', \"Austin O'Brien\", 'Austin Pendleton', 'Ava Acres', 'Ava Gardner', 'Avery Schreiber', 'Ayelet Zurer', 'Ayla Kell', 'Ayush Mahesh Khedekar', 'Aziz Muradillayev', 'Azura Skye', 'B.J. Novak', 'Bahare Seddiqi', 'Bai Ling', 'Bailee Madison', 'Balthazar Getty', 'Bam Margera', 'Barack Obama', 'Barbara Bach', 'Barbara Billingsley', 'Barbara Carrera', 'Barbara Hershey', 'Barbara Kowalcyk', 'Bari Hyman', 'Barnard Hughes', 'Barney Clark', 'Barney Frank', 'Barret Oliver', 'Barry Bostwick', 'Barry Corbin', 'Barry Dennen', 'Barry Fitzgerald', 'Barry Shabaka Henley', 'Barry Watson', 'Bart Shatto', 'Bart the Bear', 'Bashar Rahal', 'Basher Savage', 'Basil Rathbone', 'Beatrice Ntuba', 'Beatrice Straight', 'Beau Bridges', 'Beau Garrett', 'Beau Knapp', 'Beau Mirchoff', 'Bebe Neuwirth', 'Behrouz Vossoughi', 'Bella Heathcote', 'Bella Thorne', 'Belén Rueda', 'Ben Chaplin', 'Ben Crompton', 'Ben Cross', 'Ben Daniels', 'Ben Davies', 'Ben Diskin', 'Ben Falcone', 'Ben Feldman', 'Ben Gazzara', 'Ben Johnson', 'Ben Mendelsohn', 'Ben Miles', 'Ben Miller', 'Ben Platt', 'Ben Schwartz', 'Ben Stein', 'Ben Vereen', 'Benedict Cumberbatch', 'Benedict Wong', 'Benjamin A. Onyango', 'Benjamin Fletcher', 'Benjamin J. Cain Jr.', 'Benjamin Walker', 'Benno Fürmann', 'Benoît Magimel', 'Benoît Poelvoorde', 'Bern Cohen', 'Bernadette Peters', 'Bernard Cribbins', 'Bernard Fox', 'Bernard Hill', 'Bernardo Saracino', 'Bernie Casey', 'Bernie Mac', 'Bernie Sanders', 'Bess Armstrong', 'Bessie Love', 'Beth Broderick', 'Beth Grant', 'Beth Riesgraf', 'Bethany Joy Lenz', 'Betsy Baker', 'Betsy Palmer', 'Betsy Russell', 'Betty Hutton', \"Beverly D'Angelo\", 'Beverly Randolph', 'Bianca Brigitte VanDamme', 'Bianca Kajlich', 'Big Budah', 'Bill Allen', 'Bill Bailey', 'Bill Baird', 'Bill Clinton', 'Bill Cobbs', 'Bill Duke', 'Bill Erwin', 'Bill Fagerbakke', 'Bill Farmer', 'Bill Hickman', 'Bill Hunter', 'Bill Irwin', 'Bill Johnson', 'Bill Lake', 'Bill Maher', 'Bill Martone', 'Bill Melendez', 'Bill Murray', 'Bill Nunn', 'Bill Paterson', 'Billie Burke', 'Billie Whitelaw', 'Billy Aaron Brown', 'Billy Barty', 'Billy Blair', 'Billy Boyd', 'Billy Brown', 'Billy Burke', 'Billy Campbell', 'Billy Crudup', 'Billy Drago', 'Billy Gardell', 'Billy Gilbert', 'Billy West', 'Bin Won', 'Bingbing Fan', 'Bingbing Li', 'Bipasha Basu', 'Birgitte Hjort Sørensen', 'Björk', 'Bjørn Sundquist', 'Black Thomas', 'Blair Brown', 'Blair Underwood', 'Blake Lindsley', 'Blanchard Ryan', 'Blythe Danner', 'Bob Balaban', 'Bob Clendenin', 'Bob Dole', 'Bob Dylan', 'Bob Eubanks', 'Bob Gunton', 'Bob Hoskins', 'Bob Marley', 'Bob Neill', 'Bob Newhart', 'Bob Peck', 'Bob Proctor', 'Bob Ross', 'Bob Saget', \"Bobb'e J. Thompson\", 'Bobbie Phillips', 'Bobby Batson', 'Bobby Block', 'Bobby Brown', 'Bobby Coleman', 'Bobby Kendall', 'Bobby Lee', 'Bobby Moynihan', 'Bojana Novakovic', 'Bokeem Woodbine', 'Bolaji Badejo', 'Bolo Yeung', 'Bonnie Henna', 'Bonnie Hunt', 'Bonnie Lee Bouman', 'Bonnie Somerville', 'Bono', 'Bonz Malone', 'Boris Kodjoe', 'Boyd Banks', 'Boyd Holbrook', 'Boys II Men', 'Brad Garrett', 'Brad James', 'Brad Lee Wind', 'Brad Leland', 'Brad Pitt', 'Brad Renfro', 'Brad Schmidt', 'Brad William Henke', 'Bradley Cooper', 'Bradley Pierce', 'Bradley Whitford', 'Brady Corbet', 'Braeden Lemasters', 'Brahim Achabbakhe', 'Brandon Middleton', 'Brandon Molale', 'Brandon Smith', 'Brandon T. Jackson', 'Brandy Norwood', 'Branko Djuric', 'Bree Turner', 'Brenda Bakke', 'Brenda Blethyn', 'Brenda Fricker', 'Brenda Song', 'Brenda Strong', 'Brenda Vaccaro', 'Brendan Coyle', 'Brendan Doogie Milewski', 'Brendan Fehr', 'Brendan Fraser', 'Brendan Mackey', 'Brendan Sexton III', 'Brendon Eggertsen', 'Brent Anderson', 'Brent David Fraser', 'Brett Cullen', 'Brett Wagner', 'Brian Anthony Wilson', 'Brian Austin Green', 'Brian Blessed', 'Brian Bosworth', 'Brian Dennehy', 'Brian Dietzen', 'Brian Doyle-Murray', 'Brian Geraghty', 'Brian Herzlinger', 'Brian Howe', 'Brian Johnson', 'Brian Keith', 'Brian Lee Franklin', 'Brian McNamara', \"Brian O'Halloran\", 'Brian Steele', 'Brian Stepanek', 'Brian Thompson', 'Brian Van Holt', 'Brian Whitaker', \"Brian d'Arcy James\", 'Brianna Brown', 'Bridget Fonda', 'Bridgette Wilson-Sampras', 'Bridgit Mendler', 'Brighton Sharbino', 'Brigitte Bardot', 'Brigitte Helm', 'Brigitte Nielsen', 'Brion James', 'Brit Morgan', 'Britney Spears', 'Britt Ekland', 'Brittany Curran', 'Brittany Daniel', 'Brittney Powell', 'Brock Peters', 'Bronagh Gallagher', 'Brooke Bundy', \"Brooke D'Orsay\", 'Brooke Newton', 'Brooke Shields', 'Brooke Smith', 'Brooklynn Proulx', 'Bruce Altman', 'Bruce Boxleitner', 'Bruce Campbell', 'Bruce Davison', 'Bruce Dern', 'Bruce Goodchild', 'Bruce Green', 'Bruce Greenwood', 'Bruce Hopkins', 'Bruce Kerr', 'Bruce McGill', 'Bruce Newbold', 'Bruce Payne', 'Bruce Spence', 'Bruce Thomas', 'Bruce Willis', 'Bruno Ganz', 'Bruno Kirby', 'Bryan Brown', 'Bryan Callen', 'Bryan Dick', 'Bryce Dallas Howard', \"Brían F. O'Byrne\", 'Bubba Smith', 'Bud Cort', 'Bunta Sugawara', 'Burgess Meredith', 'Burghart Klaußner', 'Burl Ives', 'Burt Kwouk', 'Burt Ward', 'Burt Young', 'Buster Keaton', 'Busy Philipps', 'Buzz Aldrin', 'Byron Mann', 'Bálint Péntek', 'Bárbara Goenaga', 'Béatrice Bonifassi', 'Béatrice Dalle', 'Bérénice Bejo', 'CCH Pounder', 'CJ Adams', 'Caitlin FitzGerald', 'Caitlin Stasey', 'Caitlyn Jenner', 'Caity Lotz', 'Caleb Landry Jones', 'Callie Thorne', 'Callum Blue', 'Callum Rennie', 'Calvin Lockhart', 'Cam Clarke', 'Cameron Boyce', 'Cameron Bright', 'Cameron Mills', 'Cameron Monaghan', 'Cameron Rhodes', 'Campbell Scott', 'Camryn Manheim', 'Candace Kroslak', 'Candice Bergen', 'Cara Delevingne', 'Cara Horgan', 'Cara Seymour', 'Carel Struycken', 'Cariba Heine', 'Carl Gilliard', 'Carl Weathers', 'Carla Gallo', 'Carlease Burke', 'Carlo Cecchi', 'Carlos Alazraqui', 'Carlos Bardem', 'Carlos Gallardo', 'Carlos Lasarte', 'Carlos Ponce', 'Carly Schroeder', 'Carmen Argenziano', 'Carmen Ejogo', 'Carmen Electra', 'Carmen Maura', 'Carmen Perez', 'Carmine Giovinazzo', 'Carol Ann Susi', 'Carol Block', 'Carol Kane', 'Carol Sutton', 'Carole Bouquet', 'Caroline Dhavernas', 'Caroline Goodall', 'Caroline Munro', 'Caroll Spinney', 'Carolyn Hennesy', 'Carrie Bradstreet', 'Carrie Henn', 'Carrie Preston', 'Carroll Baker', \"Carroll O'Connor\", 'Carter Jenkins', 'Cary-Hiroyuki Tagawa', 'Cas Anvar', 'Casey Affleck', 'Casey Gooden', 'Casey Kasem', 'Casey Siemaszko', 'Casper Christensen', 'Casper Crump', 'Cassandra Peterson', 'Cassandra Scerbo', 'Cassidy Gifford', 'Cassie Ventura', 'Cat Ly', 'Catalina Sandino Moreno', 'Catherine Bell', 'Catherine Deneuve', 'Catherine Dent', 'Catherine Dyer', 'Catherine Hicks', 'Catherine Lambert', 'Catherine Lough Haggquist', 'Catherine McCormack', \"Catherine O'Hara\", 'Catherine Parks', 'Catherine Schell', 'Catherine Tate', 'Cathryn de Prume', 'Cathy Moriarty', 'Catriona MacColl', 'Cecelia Antoinette', 'Cecil Kellaway', 'Cecilia Pillado', 'Cedric the Entertainer', 'Celeste Holm', 'Celia Imrie', 'Celia Weston', 'Celina Beach', 'Celina Jade', 'Cem Yilmaz', 'Cesar Romero', 'Chad Allen', 'Chad Bishop', 'Chad L. Coleman', 'Chad Lindberg', 'Chad Lowe', 'Chandler Canterbury', 'Channing Tatum', 'Charice', 'Charis Michelsen', 'Charles Aidman', 'Charles Aznavour', 'Charles Baker', 'Charles Grodin', 'Charles Irving Beale', 'Charles Keating', 'Charles King', 'Charles Linton', 'Charles Martin Smith', 'Charles Martinet', 'Charles Mesure', 'Charles Napier', 'Charles S. Dutton', 'Charlie Bewley', 'Charlie Hunnam', 'Charlie Korsmo', 'Charlie McDermott', 'Charlie Murphy', 'Charlie Rowe', 'Charlie Saxton', 'Charlie Tahan', 'Charlie Talbert', 'Charlie Yeung', 'Charlize Theron', 'Charlotte Le Bon', 'Charlotte Lewis', 'Charlotte Rae', 'Charlotte Rampling', 'Charlotte Stewart', 'Charlotte Sullivan', 'Charly Bivona', 'Charlyne Yi', 'Chase Armitage', 'Chase Ellison', 'Chase Masterson', 'Chatchai Plengpanich', 'Chazz Palminteri', 'Cheech Marin', 'Chelan Simmons', 'Chelcie Ross', 'Chelsea Bond', 'Chelsea Field', 'Chelsea Handler', 'Chelsey Reist', 'Chemeeka Walker', 'Chen Chang', 'Chenoa Maxwell', 'Cherami Leigh', 'Cheri Oteri', 'Cherry Jones', 'Cheryl Hines', 'Cheryl Ladd', 'Cheryl Penland', 'Cheryl Tiegs', 'Chester', 'Cheyenne Haynes', 'Chi Chung Lam', 'Chi Ling Chiu', 'Chi McBride', 'Chi Muoi Lo', 'Chiaki Kuriyama', 'Chiara Caselli', 'China Chow', 'Ching Wan Lau', 'Chita Rivera', 'Chloe Bridges', 'Chloë Grace Moretz', 'Chris Andrew Ciulla', 'Chris Barrie', 'Chris Bauer', 'Chris Brochu', 'Chris Brown', 'Chris Cleveland', 'Chris Cox', 'Chris Eigeman', 'Chris Elliott', 'Chris Ellis', 'Chris Evans', 'Chris Gauthier', 'Chris Geere', 'Chris Hemsworth', 'Chris Kattan', 'Chris Klein', 'Chris Lowell', 'Chris Marquette', 'Chris Miller', 'Chris Moss', 'Chris Mulkey', 'Chris New', 'Chris Noth', 'Chris Owen', 'Chris Parnell', 'Chris Penn', 'Chris Pontius', 'Chris Thomas', 'Chris Weitz', 'Chris Young', 'Chris Zylka', 'Chriss Anglin', 'Christa B. Allen', 'Christa Miller', 'Christel Khalil', 'Christian Alvarez', 'Christian Anderson', 'Christian Bale', 'Christian Berkel', 'Christian Camargo', 'Christian Campbell', 'Christian Clavier', 'Christian Clemenson', 'Christian Keyes', 'Christian Monzon', 'Christian Stolte', 'Christiana Leucas', 'Christie Burke', 'Christina Chambers', 'Christina Cox', 'Christina Hart', 'Christina Milian', 'Christina Moore', 'Christina Vidal', 'Christine Cavanaugh', 'Christine Lakin', 'Christine Taylor', 'Christo Jivkov', 'Christoph Waltz', 'Christopher Abbott', 'Christopher Atkins', 'Christopher B. Duncan', 'Christopher Cousins', 'Christopher Denham', 'Christopher Evan Welch', 'Christopher Guest', 'Christopher Heyerdahl', 'Christopher James Baker', 'Christopher Lambert', 'Christopher Lee', 'Christopher Masterson', 'Christopher Meloni', 'Christopher Nicholas Smith', 'Christopher Rich', 'Christopher Schmidt', 'Christopher Shea', 'Christopher Simpson', 'Christopher Sommers', 'Christopher Toler', 'Christopher Webster', 'Chrystale Wilson', 'Chrystee Pharris', 'Chuck Mitchell', 'Chuck Zito', 'Chulpan Khamatova', 'Cicely Tyson', 'Cinda McCain', 'Cindy Williams', 'Circus-Szalewski', 'Cjon Saulsberry', 'Claire Bloom', 'Claire Foy', 'Claire Geare', 'Clare Higgins', 'Clare Kramer', 'Clarence Williams III', 'Clarke Peters', 'Claude Akins', 'Claude Rains', 'Claudette Colbert', 'Claudette Lalí', 'Claudia Cardinale', 'Claudia Christian', 'Claudia Ferri', 'Claudia Lapacó', 'Claudia Stedelin', 'Claudiu Trandafir', 'Clayne Crawford', 'Clayton Rohner', 'Clayton Snyder', 'Clea DuVall', 'Cleavon Little', 'Clemens Schick', 'Cliff Edwards', 'Cliff Robertson', 'Clifton Collins Jr.', 'Clifton James', 'Clifton Powell', 'Clint Eastwood', 'Clint Howard', 'Clint Mansell', 'Clive Revill', 'Clive Russell', 'Clive Swift', 'Clotilde Mollet', 'Clu Gulager', 'Clyde Kusatsu', 'Clé Bennett', 'Cody Linley', 'Cole Hauser', 'Colette Divine', 'Colin Farrell', 'Colin Ferguson', 'Colin Firth', \"Colin O'Donoghue\", 'Colin Salmon', 'Colin Stinton', 'Colleen Dewhurst', 'Colleen Haskell', \"Colleen O'Shaughnessey\", 'Collette Wolfe', 'Collin Chou', 'Collin Kahey', 'Collins Pennie', 'Colm Feore', 'Common', 'Conchata Ferrell', 'Conleth Hill', 'Connie Nielsen', 'Connie Ray', 'Connor Corum', 'Connor Paolo', 'Conrad Coates', 'Conrad Dunn', 'Conrad Goode', 'Conrad Kemp', 'Conrad Veidt', 'Conrad Vernon', 'Constance Marie', 'Constance Shulman', 'Constance Wu', 'Consuelo Gómez', 'Corbin Allred', 'Corbin Bernsen', 'Corbin Bleu', 'Corey Johnson', 'Corey Sevier', 'Corinna Harney', 'Corlandos Scott', 'Cornel Wilde', 'Cory Hardrict', 'Costas Mandylor', 'Countess Vaughn', 'Courtney B. Vance', 'Courtney Bell', 'Courtney Gains', 'Courtney Love', 'Coyote Shivers', 'Craig Bierko', 'Craig Conway', 'Craig Dougherty', 'Craig Fairbrass', 'Craig Ferguson', 'Craig Hall', 'Craig Parker', 'Craig Roberts', 'Craig Sheffer', 'Craig Stark', 'Craig T. Nelson', 'Cree Kelly', 'Cree Summer', 'Cristián de la Fuente', 'Crystal Lowe', 'Cullen Douglas', 'Currie Graham', 'Curt Doussett', 'Curtis Armstrong', 'Curtiss Cook', 'Cybill Shepherd', 'Cyd Charisse', 'Cyndi Lauper', 'Cynthia Barrett', 'Cynthia Myers', 'Cynthia Nixon', 'Cynthia Rhodes', 'Cynthia Stevenson', 'Cynthia Watros', 'Cyril Raffaelli', 'Cécile De France', 'D. David Morin', 'D.B. Sweeney', 'D.B. Woodside', 'DJ Pooh', 'DMX', 'Dabney Coleman', 'Dagmara Dominczyk', 'Dahong Ni', 'Daisy Betts', 'Dal-su Oh', 'Dalia Hernández', 'Dalip Singh', 'Dallas Barnett', 'Dallas Roberts', 'Dameon Clarke', 'Damian Jewan Lee', 'Damian Walshe-Howling', 'Damien Garvey', 'Damián Alcázar', 'Damián Delgado', 'Damon Wayans', 'Damon Wayans Jr.', 'Dan Bakkedahl', 'Dan Bilzerian', 'Dan Byrd', 'Dan Fogler', 'Dan Futterman', 'Dan Hedaya', 'Dan Hicks', \"Dan O'Herlihy\", 'Dana Andrews', 'Dana Blackstone', 'Dana Delany', 'Dana Hanna', 'Dana Ivey', 'Dana Kimmell', 'Dane Cook', 'Dania Ramirez', 'Daniel Auteuil', 'Daniel Baldwin', 'Daniel Bernhardt', 'Daniel Cudmore', 'Daniel Franzese', 'Daniel Giménez Cacho', 'Daniel Henney', 'Daniel Kaluuya', 'Daniel Kash', 'Daniel Lapaine', 'Daniel London', 'Daniel Mays', 'Daniel Radcliffe', 'Daniel Rindress-Kay', 'Daniel Roebuck', 'Daniel Sharman', 'Daniel Stern', 'Daniel Stewart Sherman', 'Daniel Tay', 'Daniel Travis', 'Daniel Wu', 'Daniel Zettel', 'Daniel von Bargen', 'Daniela Bianchi', 'Daniella Alonso', 'Daniella Pineda', 'Danielle Darrieux', 'Danielle Kotch', 'Danielle von Zerneck', 'Dann Florek', 'Danneel Ackles', 'Danny Aiello', 'Danny Arroyo', 'Danny Dyer', 'Danny Huston', 'Danny Masterson', 'Danny Nucci', 'Danny Pino', 'Danny Rhodes', 'Danny Sapani', 'Danny Strong', 'Danny Webb', 'Danny Woodburn', 'Dante Brown', 'Dany Boon', 'Dany Verissimo-Petit', 'Daoming Chen', 'Darci Kistler', 'Darcy Donavan', 'Daren Kagasoff', 'Darlene Love', 'Darren Boyd', 'Darren E. Burrows', 'Darren Healy', 'Darren Keefe Reiher', 'Darren Kendrick', 'Darren McGavin', 'Darren Shahlavi', 'Darryl Cox', 'Darryl Hunt', 'Darryl Stephens', 'Darwin Shaw', 'Daryl Sabara', 'Daryn Tufts', 'Dash Mihok', 'Dato Bakhtadze', 'Dave Allen', 'Dave Annable', 'Dave Chappelle', 'Dave Foley', 'Dave Legeno', 'Dave Sheridan', 'David A Cole', 'David A.R. White', 'David Adam Flannery', 'David Agranov', 'David Alan Basche', 'David Alan Grier', 'David Alpay', 'David Arquette', 'David Backus', 'David Bailie', 'David Barnes', 'David Belle', 'David Calder', 'David Carradine', 'David Clennon', 'David Conrad', 'David Costabile', 'David Della Rocco', 'David Denman', 'David Douglas', 'David Eigenberg', 'David Fine', 'David Gallagher', 'David Gant', 'David Gulpilil', 'David Harbour', 'David Hemmings', 'David Herman', 'David Hewlett', 'David Heyman', 'David Hoffman', 'David Huddleston', 'David Hyde Pierce', 'David Jason Perez', 'David Julian Hirsh', 'David Keith', 'David Kelly', 'David Kennedy', 'David Kross', 'David Lee Smith', 'David Lewis', 'David Lyons', 'David Margulies', 'David Masterson', 'David Moscow', 'David Murray', 'David Niven', \"David O'Hara\", 'David Oakes', 'David Ogden Stiers', 'David Opatoshu', 'David Oyelowo', 'David Patrick Kelly', 'David Paymer', 'David Proval', 'David Ramsey', 'David Rasche', 'David Richmond-Peck', 'David Schaal', 'David Schneider', 'David Sparrow', 'David Suchet', 'David Sullivan', 'David Thewlis', 'David Thornton', 'David Threlfall', 'David Walliams', 'David Walton', 'David Warbeck', 'David Wayne', 'David White', 'David Zayas', 'David Zucker', 'Dawn French', 'Dax Flame', 'Dayna Devon', 'Dayo Okeniyi', 'DeForest Kelley', 'DeRay Davis', 'DeVaughn Nixon', 'DeWayne Warren', 'Dean Andrews', 'Dean Jones', 'Dean Stockwell', 'Debbie Harry', 'Debbie Reynolds', 'Debi Mazar', 'Deborah Foreman', 'Deborah Kara Unger', 'Deborah Kerr', 'Deborah Mailman', 'Deborah Twiss', 'Deborra-Lee Furness', 'Debra Lynn Hull', 'Debra Messing', 'Debra Monk', 'Debra Winger', 'Debrianna Mansini', 'Dee Bradley Baker', 'Dee Wallace', 'Deems Taylor', 'Del Zamora', 'Dell Yount', 'Della Reese', 'Delphine Chanéac', 'Delroy Lindo', 'Demetri Martin', 'Demetrius Grosse', 'Demi Moore', 'Demián Bichir', 'Dendrie Taylor', 'Deneen Tyler', 'Denholm Elliott', 'Denis Lavant', 'Denis Leary', \"Denis O'Hare\", 'Denise Boutte', 'Denise Crosby', 'Dennis Burkley', 'Dennis Franz', 'Dennis L.A. White', 'Dennis Quaid', 'Denny Kirkwood', 'Denzel Washington', 'Deon Richmond', 'Dequina Moore', 'Derek Brandon', 'Derek Graf', 'Derek Jacobi', 'Derek Jeter', 'Derek Luke', 'Derek Magyar', 'Derek Mears', 'Derek Wayne Johnson', 'Derick Martini', 'Dermot Crowley', 'Desmond Askew', 'Desmond Llewelyn', 'Devid Striesow', 'Devin Ratray', 'Devon Murray', 'Dexter Fletcher', 'Diahann Carroll', 'Dian Bachar', 'Diana Maria Riva', 'Diana Ross', 'Diana Scarwid', 'Diana Vickers', 'Diane Ladd', 'Diane Venora', 'Dianne Wiest', 'Dichen Lachman', 'Dick Clark', 'Dick Powell', 'Dick Van Patten', 'Dickie Jones', 'Diedrich Bader', 'Diego Ramos', 'Diego Velazquez', 'Dillon Casey', 'Dilshad Vadsaria', 'Dinah Manoff', \"Dinesh D'Souza\", 'Diora Baird', 'Dirk Bogarde', 'Divine', 'Djimon Hounsou', 'Dolly Parton', 'Dom DeLuise', 'Domenick Lombardozzi', 'Dominic Colón', 'Dominic Cooper', 'Dominic Flores', 'Dominic Monaghan', 'Dominick Brascia', 'Dominik Castell', 'Dominik García-Lorido', 'Dominique McElligott', 'Dominique Sanda', 'Don Ameche', 'Don Brooks', 'Don Cheadle', 'Don Francks', 'Don Gordon', 'Don Johnson', 'Don McKellar', 'Don McManus', 'Don Pardo', 'Don Rickles', 'Don Stark', 'Don Wallace', 'Donald Austin', 'Donald Faison', 'Donald Gibb', 'Donald Glover', 'Donald Pleasence', 'Donald Sumpter', 'Donald Trump', 'Donald Watkins', 'Donatas Banionis', 'Dong-gun Jang', 'Donna Murphy', 'Donna Reed', 'Donnie Dunagan', 'Donny Alamsyah', 'Donny Boaz', 'Donovan Scott', 'Doona Bae', 'Dorian Missick', 'Dororthy Thorton', 'Dorothy Lamour', 'Dorothy Lyman', 'Dottie Alexander', 'Doug Bradley', 'Doug Cockle', 'Doug E. Doug', 'Douglas Haase', 'Douglas Smith', 'Dougray Scott', 'Dov Tiefenbach', 'Dove Cameron', 'Dr. Dre', 'Drake', 'Drake Bell', 'Drea de Matteo', 'Dreama Walker', 'Dree Hemingway', 'Drew Carey', 'Drew Fuller', 'Drew Powell', 'Drew Sidora', 'Drew Waters', 'Duane Jones', 'Dulé Hill', 'Dustin Fitzsimons', 'Dustin Ingram', 'Dustin Lance Black', 'Dustin Milligan', 'Dustin Nguyen', 'Dwayne Johnson', 'Dwight Henry', 'Dwight Yoakam', 'Dyan Cannon', 'Dylan Authors', 'Dylan Baker', 'Dylan Kussman', 'Dylan Minnette', 'Dylan Moran', 'Dylan Schombing', 'Dylan Walsh', 'Eamonn Walker', 'Earl Cameron', 'Eartha Kitt', 'Ebon Moss-Bachrach', 'Ed Begley Jr.', 'Ed Lauter', 'Ed Skrein', 'Ed Speleers', 'Ed Stoppard', 'Ed Wynn', \"Eddie 'Piolin' Sotelo\", 'Eddie Albert', 'Eddie Baroo', 'Eddie Cahill', 'Eddie Cibrian', 'Eddie Deezen', 'Eddie Griffin', 'Eddie Izzard', 'Eddie Jemison', 'Eddie Jones', 'Eddie Kaye Thomas', 'Eddie Marsan', 'Eddie Redmayne', 'Eddie Rouse', 'Eddie Spears', 'Eden Riegel', 'Edgar Arreola', 'Edgar Buchanan', 'Edgar Ramírez', 'Edgar Tancangco', 'Edi Gathegi', 'Edie Falco', 'Edith Massey', 'Edmund McMillen', 'Edouard Baer', 'Eduard Fernández', 'Eduardo Noriega', 'Eduardo Verástegui', 'Edward Andrews', 'Edward Conna', 'Edward Everett Horton', 'Edward Fox', 'Edwin Hodge', 'Edwin Neal', 'Eileen Brennan', 'Eion Bailey', 'Ejner Federspiel', 'Elaine Cassidy', 'Elaine Hendrix', 'Elaine Stritch', 'Elden Henson', 'Eleanor Bron', 'Eleanor Parker', 'Elena Anaya', 'Elena Satine', 'Eli Marienthal', 'Elijah Kelley', 'Elina Abai Kyzy', 'Elina Alminas', 'Elio Germano', 'Elisa Donovan', 'Elisabeth Harnois', 'Elise Muller', 'Elise Neal', 'Elissa Dowling', 'Eliza Coupe', 'Elizabeth Berkley', 'Elizabeth Berrington', 'Elizabeth Blackmore', 'Elizabeth Daily', 'Elizabeth Debicki', 'Elizabeth MacRae', 'Elizabeth McGovern', 'Elizabeth Meriwether', 'Elizabeth Perkins', 'Ella Joyce', 'Ella Wahlestedt', 'Ellar Coltrane', 'Ellen Albertini Dow', 'Ellen Barkin', 'Ellen Block', 'Ellen Burstyn', 'Ellen Ross', 'Ellen Sandweiss', 'Ellen Wong', 'Ellia Thompson', 'Ellie Cornell', 'Ellie Kendrick', 'Elliott Gould', 'Elodie Yung', 'Elpidia Carrillo', 'Elsa Lanchester', 'Elton John', 'Elvis Tsui', 'Embeth Davidtz', 'Emilia Clarke', 'Emilia Fox', 'Emilio Estefan Jr.', 'Emily Alyn Lind', 'Emily Meade', 'Emily Osment', 'Emily Pearson', 'Emily Podleski', 'Emily Ratajkowski', 'Emily Rios', 'Emily Watson', 'Emily Wickersham', 'Emir Kusturica', 'Emma Bell', 'Emma Caulfield', 'Emma Kenney', 'Emma Lung', 'Emma Stone', 'Emma Watson', 'Emma de Caunes', 'Emmanuelle Béart', 'Emmanuelle Riva', 'Emmanuelle Seigner', 'Emmanuelle Vaugier', 'Enrico Colantoni', 'Enrique Iglesias', 'Enrique Murciano', 'Enrique Villén', 'Enzo Petito', 'Eoin Macken', 'Eric Blore', 'Eric Cantona', 'Eric Christmas', 'Eric Dane', 'Eric Godon', 'Eric Idle', 'Eric Jacobson', 'Eric Johnson', 'Eric Lange', 'Eric Lloyd', 'Eric Mabius', 'Eric McCormack', 'Eric Mendenhall', 'Eric Peterson', 'Eric Schlosser', 'Eric Schweig', 'Eric Sheffer Stevens', 'Eric Stoltz', 'Eric Stonestreet', 'Eric Stuart', 'Eric Sykes', 'Eric Winter', 'Eric Worre', 'Erica Leerhsen', 'Erica Linz', 'Erick Avari', 'Erick Elias', 'Erik Estrada', 'Erik Knudsen', 'Erik Palladino', 'Erik Per Sullivan', 'Erika Christensen', 'Erin Bethea', 'Erin Boyes', 'Erin Cipolletti', 'Erin Daniels', 'Erin Fitzgerald', 'Erin Gray', 'Erin Pitt', 'Erin Wasson', 'Erland Josephson', 'Ernie Reyes Jr.', 'Eros Vlahos', 'Errol Flynn', 'Esai Morales', 'Essence Atkins', 'Essie Davis', 'Estella Warren', 'Estelle Parsons', 'Esther Williams', 'Ethan Embry', 'Ethan Peck', 'Ethan Stiefel', 'Ethan Suplee', 'Eugenie Bondurant', 'Eugenio Derbez', 'Eva Amurri Martino', 'Eva Birthistle', 'Eva Bourne', 'Eva Carrozza', 'Eva Green', 'Eva LaRue', 'Eva Marcille', 'Eva Marie Saint', 'Evan Jones', 'Evan McGuire', 'Evan Parke', 'Evan Ross', 'Eve', 'Eve Plumb', 'Evelyn Jefferson', 'Everett McGill', 'Everett Sloane', 'Evgeniy Mironov', 'Ewen Bremner', 'Exie Booker', 'Ezra Miller', 'F. Murray Abraham', 'Fabian Bolin', 'Fabrice Luchini', 'Facundo Lombard', 'Fadia Nadda', 'Faizon Love', 'Fana Mokoena', 'Fann Wong', 'Fanny Ardant', 'Fares Fares', 'Farrah Fawcett', 'Fay Masterson', 'Faye Dunaway', 'Fedja van Huêt', 'Felicity Huffman', 'Felix Avitia', 'Fenella Woolgar', 'Fereshteh Sadre Orafaiy', 'Fergie', 'Fernanda Andrade', 'Fernanda Machado', 'Fernanda Montenegro', 'Fernanda Torres', 'Fernando Cayo', 'Fernando Rey', 'Filippo Timi', 'Finn Ireland', 'Finn Wittrock', 'Finola Hughes', 'Fiona Dourif', 'Fiona Glascott', 'Fiona Shaw', 'Fionnula Flanagan', 'Firass Dirani', 'Fisher Stevens', 'Flaco Navaja', 'Flavio Parenti', 'Flea', 'Flint Beverage', 'Florence Henderson', 'Florian Lukas', 'Forrest Tucker', 'Fran Drescher', 'Fran Kranz', 'Frances Bavier', 'Frances Bay', 'Frances Conroy', 'Frances Fisher', 'Frances Lee McCain', \"Frances O'Connor\", 'Francesc Pagès', 'Francesca Capaldi', 'Francesca Rettondini', 'Francis Capra', 'Francis Lederer', 'Franco Nero', 'Frank Dillane', 'Frank Faylen', 'Frank Finlay', 'Frank Gerrish', 'Frank Grillo', 'Frank Hvam', 'Frank Langella', 'Frank McHugh', 'Frank Rautenbach', 'Frank Vincent', 'Frank Welker', 'Frank Whaley', 'Frankie Muniz', 'Frankie Valli', 'Franky G', 'François Berléand', 'François Bégaudeau', 'François Chau', 'François Cluzet', 'Françoise Yip', 'Fred Armisen', 'Fred Gwynne', 'Fred MacMurray', 'Fred Malatesta', 'Fred Melamed', 'Fred Rogers', 'Fred Tatasciore', 'Fred Ward', 'Fred Willard', 'Fred Williamson', 'Freddie Jones', 'Freddy Rodríguez', 'Frederic Forrest', 'Frederick Weller', 'Fredro Starr', 'French Stewart', 'Fritz Kortner', 'G.J. Echternkamp', 'G.W. Bailey', 'G.W. Krauss', 'Gabourey Sidibe', 'Gabriel Almirón', 'Gabriel Bateman', 'Gabriel Beristain', 'Gabriel Damon', 'Gabriel Hogan', 'Gabriel Iglesias', 'Gabriel Millman', 'Gabriel Reyes', 'Gabriel Thomson', 'Gabriela Castillo', 'Gabrielle Carteris', 'Gabrielle Reece', 'Gaby Hoffmann', 'Gael Le Cornec', 'Gage Golightly', 'Gaia Weiss', 'Gale Sondergaard', 'Gano Grills', 'Garcelle Beauvais', 'Garrett Clayton', 'Garrett M. Brown', 'Garrett Morris', 'Garrett Ryan', 'Garrick Hagon', 'Garry Cooper', 'Garry Shandling', 'Garvin Cross', 'Gary Cole', 'Gary Coleman', 'Gary Cooper', 'Gary Daniels', 'Gary Dourdan', 'Gary Farmer', 'Gary Lewis', 'Gary Lockwood', 'Gary McDonald', 'Gary Oldman', 'Gary Stretch', 'Gary Weeks', 'Gastón Pauls', 'Gavin MacLeod', 'Gavin Newsom', 'Gaye Brown', 'Gbenga Akinnagbe', 'Gedde Watanabe', 'Gemma Chan', 'Gen Seto', 'Gena Rowlands', 'Gene Simmons', 'Gene Tierney', 'Geneviève Bujold', 'Geneviève Lemon', 'Geoff Bell', 'Geoff Stults', 'Geoffrey Arend', 'Geoffrey Holder', 'Geoffrey Palmer', \"George 'Buck' Flower\", 'George Brent', 'George C. Scott', 'George Carlin', 'George Chakiris', 'George Coe', 'George Cole', 'George DiCenzo', 'George Hamilton', 'George Harris', 'George Harrison', 'George Kennedy', 'George Lazenby', 'George Lopez', 'George Newbern', 'George Peppard', 'George Raft', 'George Reeves', 'George Sanders', 'George T. Odom', 'George Voskovec', 'George W. Bush', 'George Wendt', 'Georgia Groome', 'Georgina Cates', 'Georgina Chapman', 'Georgina Reilly', 'Gerald McRaney', 'Geraldine Chaplin', 'Geraldine McEwan', 'Gerard Butler', 'Gerard McSorley', 'Gerardo Taracena', 'Germán Alcarazu', 'Gerry Becker', 'Gerry Bednob', 'Gerry Lopez', 'Gert Fröbe', 'Gia Mantegna', 'Gian Maria Volontè', 'Giancarlo Giannini', 'Gideon Emery', 'Gigi Rice', 'Gil Bellows', 'Gil Birmingham', 'Gilbert Gottfried', 'Gilbert R. Hill', 'Gilbert Roland', 'Gilles Lellouche', 'Gillian Jacobs', 'Gillian White', 'Gina Bellman', 'Gina Holden', 'Gina Lollobrigida', 'Gina McKee', 'Gina Montana', 'Ginger Jensen', 'Ginger Rogers', 'Gino Salvano', 'Giovanna Mezzogiorno', 'Gitte Witt', 'Giulia Michelini', 'Gladys Cooper', 'Glen Hansard', 'Glen Murphy', 'Glen Powell', 'Glenn Beck', 'Glenn Campbell', 'Glenn Erland Tosterud', 'Glenn Ford', 'Glenn Morshower', 'Glenn Plummer', 'Glenn Shadix', 'Glenne Headly', 'Gloria Foster', 'Gloria Grahame', 'Gloria Reuben', 'Gloria Sandoval', 'Gloria Stuart', 'Gloria Votsis', 'Glynis Johns', 'Goran Visnjic', 'Gordon Currie', 'Gordon Jackson', 'Gordon Jump', 'Gordon Pinsent', 'Goya Toledo', 'Grace Gummer', 'Grace Jones', 'Grace Phipps', 'Graham Beckel', 'Graham McTavish', 'Grant Bowler', 'Grant Heslov', 'Grasie Mercedes', 'Graziella Galvani', 'Greer Garson', 'Greg Ayres', 'Greg Collins', 'Greg Crowe', \"Greg D'Agostino\", 'Greg Germann', 'Greg Grunberg', 'Greg Mottola', 'Greg Nicotero', 'Greg Speirs', 'Gregg Henry', 'Gregory Alan Williams', 'Gregory Cruz', 'Gregory Itzin', 'Gregory Scott Cummins', 'Gregory Sierra', 'Gregory Smith', 'Greta Gerwig', 'Gretchen Mol', 'Gretchen Palmer', 'Grey Griffin', 'Griffin Cleveland', 'Griffin Dunne', 'Griffin Kane', 'Grigoriy Dobrygin', 'Guang Li', 'Guillermo Arriaga', 'Guillermo Francella', 'Gulshan Grover', 'Gunnar Hansen', 'Guro Nagelhus Schia', 'Gus Van Sant', 'Gustav Fröhlich', 'Gyton Grantley', 'Gérard Jugnot', 'H.M. Wynant', 'Hakeem Kae-Kazim', 'Hal Holbrook', 'Hal Landon Jr.', 'Hal Linden', 'Haley Bennett', 'Haley Joel Osment', 'Haley Ramm', 'Haluk Bilginer', 'Hana Mae Lee', 'Hana Shuan', 'Hanaa Bouchaib', 'Hannah Murray', 'Hannah Spearritt', 'Hanne Aagesen', 'Hanno Pöschl', 'Hans Kesting', 'Hans Matheson', 'Hans Weingartner', 'Hardy Krüger', 'Harland Williams', 'Harley Jane Kozak', 'Harmony Korine', 'Harold Gould', 'Harold Perrineau', 'Harold Ramis', 'Harriet Walter', 'Harris Yulin', 'Harrison Ford', 'Harrison Gilbertson', 'Harrison Page', 'Harry Carey Jr.', 'Harry Connick Jr.', 'Harry Lennix', 'Harry Shearer', 'Harry Styles', 'Harry Treadaway', 'Haruma Miura', 'Harvey Fierstein', 'Harvey Korman', 'Harvey Weinstein', 'Hassan Johnson', 'Hattie McDaniel', 'Hayden Christensen', 'Hayley Atwell', 'Hayley Kiyoko', 'Hayley Lovitt', 'Hayley McFarland', 'Heath Ledger', 'Heather Berman', 'Heather Bucha', 'Heather Burns', 'Heather Donahue', 'Heather Langenkamp', 'Heather Locklear', 'Heather Matarazzo', 'Heather Morris', \"Heather O'Rourke\", 'Heather Sossaman', 'Hector Echavarria', 'Hector Elizondo', 'Hector Kotsifakis', 'Hedy Lamarr', 'Helen Hayes', 'Helen Martin', 'Helen McCrory', 'Helena Mattsson', 'Helmut Bakaitis', 'Henry Cavill', 'Henry Czerny', 'Henry Ian Cusick', 'Henry Rollins', 'Henry Silva', 'Henry Simmons', 'Henry Thomas', 'Herbert Grönemeyer', 'Herbert Lom', 'Herbert Russell', 'Herman Koto', 'Hervé Villechaize', 'Hiam Abbass', 'Hilda Bernard', 'Hill Harper', 'Hiroshi Abe', 'Hiroyuki Ikeuchi', 'Hitoshi Matsumoto', 'Ho-Sung Pak', 'Hoke Howell', 'Holland Taylor', 'Holly Hunter', 'Holly Valance', 'Holmes Osborne', 'Holt McCallany', 'Homayoun Ershadi', 'Honglei Sun', 'Honor Blackman', 'Hope Davis', 'Hope Olaide Wilson', 'Horatio Sanz', 'Howard Caine', 'Howard Hesseman', 'Howard Keel', 'Howard Morris', 'Hoyt Axton', 'Hristo Shopov', 'Hudson Leick', 'Huell Howser', 'Huey Lewis', 'Hugh Bonneville', 'Hugh Dillon', 'Hugh Griffith', 'Hugh Jackman', 'Hugh Keays-Byrne', 'Hugh M. Hefner', \"Hugh O'Brian\", \"Hugh O'Conor\", 'Hugo Stiglitz', 'Hulk Hogan', 'Humphrey Bogart', 'Hunter Parrish', 'Hutch Dano', 'Hye-jeong Kang', 'Hye-kyo Song', 'Héctor Jiménez', 'Ian Bohen', 'Ian Gamazon', 'Ian Gomez', 'Ian Hart', 'Ian McDiarmid', 'Ian McNeice', 'Ian Mune', 'Ian Richardson', 'Ian Somerhalder', 'Ian Tracey', 'Ian Whyte', 'Ian Ziering', 'Iben Hjejle', 'Ice-T', 'Iddo Goldberg', 'Igal Naor', 'Igor Zaripov', 'Ike Barinholtz', 'Iko Uwais', 'Ilene Graff', 'Illeana Douglas', 'Imelda Staunton', 'India de Beaufort', 'Indira Varma', 'Ingrid Bolsø Berdal', 'Ingrid Thulin', 'Ioan Gruffudd', 'Ion Overman', 'Ione Skye', 'Irene Bedard', 'Irene Dunne', 'Irene Papas', 'Irvin Kershner', 'Irène Jacob', 'Isaac C. Singleton Jr.', 'Isaac Hayes', 'Isaac Hempstead Wright', 'Isaach De Bankolé', 'Isabella Rossellini', 'Isabelle Adjani', 'Isabelle Carré', 'Isabelle Huppert', 'Isabelle Nanty', 'Isabelle Nélisse', 'Isaiah Washington', 'Isiah Thomas', 'Isiah Whitlock Jr.', 'Ivan Barnev', 'Ivan Dixon', 'Ivan Okhlobystin', 'Ivan Sergei', 'Ivana Baquero', 'Ivana Milicevic', 'Ivette Alvarez', 'Iván Kamarás', 'Izabella Miko', 'Izabella Scorupco', 'J. Smith-Cameron', 'J.B. Smoove', 'J.D. Evermore', 'J.D. Williams', 'J.J. Abrams', 'J.J. Cohen', 'J.K. Simmons', 'J.T. Walsh', 'JJ Feild', 'JR Bourne', 'Jacinda Barrett', 'Jack Albertson', 'Jack Canfield', 'Jack Carson', 'Jack Davenport', 'Jack Elam', 'Jack Guzman', 'Jack Hawkins', 'Jack Lord', 'Jack McBrayer', 'Jack McElhone', 'Jack McGee', 'Jack McGraw', 'Jack Nance', \"Jack O'Connell\", \"Jack O'Halloran\", 'Jack Palance', 'Jack Plotnick', 'Jack Reynor', 'Jack Thompson', 'Jack Warden', 'Jack Wild', 'Jacki Weaver', 'Jackie Burroughs', 'Jackie Cooper', 'Jackie Gleason', 'Jackson Nicoll', 'Jacky Ido', 'Jacob Hopkins', 'Jacob Latimore', 'Jacob Pitts', 'Jacob Tremblay', 'Jacob Vargas', 'Jacob Young', 'Jacqueline Bisset', 'Jacqueline Lovell', 'Jacqueline MacInnes Wood', 'Jacqueline McKenzie', 'Jacques Gamblin', 'Jacques Perrin', 'Jada Pinkett Smith', 'Jade Kindar-Martin', 'Jaden Klein', 'Jaime Camil', 'Jaime King', 'Jake Busey', 'Jake Cherry', 'Jake Gyllenhaal', 'Jake Lacy', 'Jake Lloyd', 'Jake Richardson', 'Jake Ryan', 'Jake Sandvig', 'Jake Short', 'Jake Weary', 'Jake Weber', 'Jake Wood', 'Jaleel White', 'Jamel Debbouze', 'James Babson', 'James Badge Dale', 'James Biberi', 'James Bolam', 'James Brolin', 'James Brown', 'James Burnett', 'James Cagney', 'James Callis', 'James Chalke', 'James Coburn', 'James Corden', \"James D'Arcy\", 'James DeBello', 'James Deen', 'James Doohan', 'James Duval', 'James Eckhouse', 'James Fleet', 'James Fox', 'James Frain', 'James Franco', 'James Gammon', 'James Gunn', 'James Hall', 'James Hetfield', 'James Huang', 'James Karen', 'James Kyson', 'James Lafferty', 'James Lance', 'James Le Gros', 'James Lew', 'James Lipton', 'James Lorinz', 'James Martin Kelly', 'James Mason', 'James McCaffrey', 'James Morrison', 'James Nesbitt', 'James Patrick Stuart', 'James Pickens Jr.', 'James Ransone', 'James Read', 'James Robertson Justice', 'James Robinson', 'James Russo', 'James Shigeta', 'James Tumminia', 'James Tupper', 'James Urbaniak', 'James Whitmore', 'James Wilcox', 'James With', 'James Wolk', 'Jamey Sheridan', 'Jami Gertz', 'Jamie Blackley', 'Jamie Draven', 'Jamie Foreman', 'Jamie Hector', 'Jamie Kennedy', 'Jamie Lee Curtis', 'Jamie Renée Smith', 'Jan Cornet', 'Jan Decleir', 'Jan Haley', 'Jan Hooks', 'Jan-Michael Vincent', 'Jane Adams', 'Jane Bradbury', 'Jane Curtin', 'Jane Fonda', 'Jane Krakowski', 'Jane Wyman', 'Janeane Garofalo', 'Janel Parrish', 'Janet Hubert', 'Janet Jackson', 'Janet Leigh', 'Janet McTeer', 'Janette Armand', 'Janine Turner', 'Jansen Panettiere', 'Jaqueline Fleming', 'Jared Burke', 'Jared Gilman', 'Jarrod Bunch', 'Jarrod Phillips', 'Jasika Nicole', 'Jasmine Trinca', 'Jason Alexander', 'Jason Bateman', 'Jason Beghe', 'Jason Behr', 'Jason Burkey', 'Jason Cerbone', 'Jason Connery', 'Jason Cope', 'Jason Cottle', 'Jason Dixie', 'Jason Douglas', 'Jason Evers', 'Jason Flemyng', 'Jason George', 'Jason Gray-Stanford', 'Jason K. Wixom', 'Jason Kravits', 'Jason Lewis', 'Jason London', 'Jason Mantzoukas', 'Jason Marsden', 'Jason Maza', 'Jason Mewes', 'Jason Momoa', 'Jason Patric', 'Jason Priestley', 'Jason Ritter', 'Jason Robards', 'Jason Scott Lee', 'Jason Spevack', 'Jason Statham', 'Jason Stuart', 'Jason Tobin', 'Jason Trost', 'Jason Weaver', 'Jasper Cole', 'Jasper Johal', 'Jasper Levine', 'Javed Jaffrey', 'Javier Botet', 'Jay Adams', 'Jay Chandrasekhar', 'Jay Hernandez', \"Jay Laga'aia\", 'Jay Leno', 'Jay Mohr', 'Jay O. Sanders', 'Jay Paulson', 'Jay R. Ferguson', 'Jaycee Chan', 'Jaymes Butler', 'Jayne Eastwood', 'Jean Arthur', 'Jean Caffeine', 'Jean Harlow', 'Jean Louisa Kelly', 'Jean Marsh', 'Jean Peters', 'Jean Simmons', 'Jean Smart', 'Jean Stapleton', 'Jean-Baptiste Maunier', 'Jean-Claude Dreyfus', 'Jean-Claude Lecas', 'Jean-Hugues Anglade', 'Jean-Louis Blondeau', 'Jean-Louis Trintignant', 'Jean-Marc Barr', 'Jean-Paul Belmondo', 'Jean-Pierre Darroussin', 'Jean-Pierre Léaud', 'Jeanette Branch', 'Jeanne Crain', 'Jeanne Moreau', 'Jeanne Neilson', 'Jeanne Tripplehorn', 'Jeannetta Arnette', 'Jed Brophy', 'Jeff Ament', 'Jeff Anderson', 'Jeff Bennett', 'Jeff Bridges', 'Jeff Conaway', 'Jeff DeRocker', 'Jeff Fahey', 'Jeff Garlin', 'Jeff Jacob', 'Jeff Kober', 'Jeff Lima', 'Jeff Perry', 'Jeff Seymour', 'Jeffrey Combs', 'Jeffrey DeMunn', 'Jeffrey Dover', 'Jeffrey Falcon', 'Jeffrey Frost', 'Jeffrey Garcia', 'Jeffrey Jones', 'Jeffrey Markle', 'Jeffrey W. Jenkins', 'Jeffrey Weissman', 'Jelena Jovanova', 'Jelena Nik', 'Jemima Kirke', 'Jemima Rooper', 'Jemima West', 'Jemma Curran', 'Jenette Goldstein', 'Jenifer Lewis', 'Jenna Boyd', 'Jenna Elfman', 'Jenna Fischer', 'Jenni Rivera', 'Jennie Jacques', 'Jennifer Butler', 'Jennifer Ehle', 'Jennifer Esposito', 'Jennifer Freeman', 'Jennifer Garner', 'Jennifer Grey', 'Jennifer Hale', 'Jennifer Hall', 'Jennifer Hudson', 'Jennifer Jason Leigh', 'Jennifer Jones', 'Jennifer Lafleur', 'Jennifer Landa', 'Jennifer Lawrence', 'Jennifer Lee Wiggins', 'Jennifer Rubin', 'Jennifer Saunders', 'Jennifer Schwalbach Smith', 'Jennifer Sky', 'Jennifer Tung', 'Jennifer Westfeldt', 'Jenny Agutter', 'Jenny McCarthy', \"Jenny O'Hara\", 'Jenny Slate', 'Jensen Ackles', 'Jere Burns', 'Jeremy Brett', 'Jeremy Crutchley', 'Jeremy Davies', 'Jeremy Howard', 'Jeremy Irvine', 'Jeremy Jordan', 'Jeremy Kemp', 'Jeremy Northam', 'Jeremy Owen', 'Jeremy Renner', 'Jeremy Sande', 'Jeremy Shada', 'Jeremy W. Auman', 'Jeri Ryan', 'Jerry Ferrara', 'Jerry Mathers', 'Jerry Nelson', 'Jerry Stiller', 'Jesper Christensen', 'Jess Harnell', 'Jess Weixler', 'Jessalyn Gilsig', 'Jesse Borrego', 'Jesse Garcia', 'Jesse Hutch', 'Jesse James', 'Jesse L. Martin', 'Jesse McCartney', 'Jesse Moss', 'Jesse Tyler Ferguson', 'Jesse Vint', 'Jessica Barden', 'Jessica Bowman', 'Jessica Capshaw', 'Jessica Chastain', 'Jessica Collins', 'Jessica Dublin', 'Jessica Hecht', 'Jessica Lindsey', 'Jessica Lowndes', 'Jessica Mauboy', 'Jessica McNamee', 'Jessica Paré', 'Jessica Raine', 'Jessica Simpson', 'Jessica Szohr', 'Jessica Tandy', 'Jessica Walter', 'Jessica Wesson', 'Jessie T. Usher', 'Jessy Schram', 'Jesuíta Barbosa', 'Jet Li', 'Ji-hyun Jun', 'Ji-tae Yu', 'Ji-won Ha', 'Jiao Xu', 'Jill Clayburgh', 'Jill Flint', 'Jill Hennessy', 'Jill St. John', 'Jill Talley', 'Jillian Estell', 'Jillian Murray', 'Jim Belushi', 'Jim Broadbent', 'Jim Byrnes', 'Jim Carter', 'Jim Cody Williams', 'Jim Gaffigan', 'Jim Henson', 'Jim Meskimen', 'Jim Norton', 'Jim Parrack', 'Jim Parsons', 'Jim Rash', 'Jim Siedow', 'Jim Sturgess', 'Jim Varney', 'Jimi Hendrix', 'Jimi Mistry', 'Jimmy Bennett', 'Jimmy Fallon', 'Jimmy Jean-Louis', 'Jimmy Nail', 'Jimmy Shergill', 'Jimmy Shubert', 'Jimmy Smits', 'Jin Akanishi', 'Jizelle Jade', 'Jo Prestia', 'JoAnna Garcia Swisher', 'JoBeth Williams', 'Joan Allen', 'Joan Baez', 'Joan Chen', 'Joan Fontaine', 'Joan Plowright', 'Joan Rivers', \"Joanna 'JoJo' Levesque\", 'Joanna Cassidy', 'Joanna Kulig', 'Joanna Lumley', 'Joanne Samuel', 'Joanne Whalley', 'Joaquim de Almeida', 'Joaquín Cosio', 'Jodi Benson', \"Jodi Lyn O'Keefe\", 'Jodie Whittaker', 'Joe Armstrong', 'Joe Bishop', 'Joe Cocker', 'Joe Cole', 'Joe Cornish', 'Joe Dinicol', 'Joe Don Baker', 'Joe E. Brown', 'Joe Egan', 'Joe Estevez', 'Joe Flaherty', 'Joe Howard', 'Joe Komara', 'Joe Lo Truglio', 'Joe Mantegna', 'Joe Marino', 'Joe McQueen', 'Joe Morton', 'Joe Pingue', 'Joe Simpson', 'Joe Spinell', 'Joe Turkel', 'Joe Viterelli', 'Joel Courtney', 'Joel David Moore', 'Joel McHale', 'Joel Moody', 'Joel Murray', 'Joel Paul Reisig', 'Joely Richardson', 'Joey D. Vieira', 'Joey Fatone', 'Joey Lauren Adams', 'Joey Lawrence', 'Joey Slotnick', 'Joffre Soares', 'Johanna Braddy', 'Johanna Mørck', 'Johannes Silberschneider', 'John Abraham', 'John Amos', 'John Amplas', 'John Arcilla', 'John Ashton', 'John Astin', 'John August', 'John Aylward', 'John Bailey', 'John Beasley', 'John Beck', 'John Bell', 'John Belushi', 'John Billingsley', 'John Boyega', 'John Buffalo Mailer', 'John Cameron Mitchell', 'John Carradine', 'John Cassavetes', 'John Castle', 'John Colicos', 'John Considine', 'John Cothran', \"John D'Leo\", 'John Doe', 'John Doman', 'John Enos III', 'John F. Kennedy', 'John Fiedler', 'John Forsythe', 'John Gallagher Jr.', 'John Garfield', 'John Gatins', 'John Gavin', 'John Gielgud', 'John Glover', 'John Heard', 'John Henshaw', 'John Hensley', 'John Hillerman', 'John Hodgman', 'John Howard', 'John Ireland', 'John Kapelos', 'John Karyus', 'John Larroquette', 'John Light', 'John Lone', 'John Lynch', 'John Macmillan', 'John Mahoney', 'John McGiver', 'John McGlothlin', 'John McMartin', 'John Meillon', 'John Michael Higgins', 'John Neville', 'John Newton', 'John Patrick Amedori', 'John Randolph', 'John Ratzenberger', 'John Reardon', 'John Reeves', 'John Robinson', 'John Savage', 'John Saxon', 'John Sessions', 'John Simm', 'John Stamos', 'John Topor', 'John Vernon', 'John Witherspoon', 'John Wood', 'John de Lancie', 'Johnny Cannizzaro', 'Johnny Depp', 'Johnny Harris', 'Johnny Lever', 'Johnny Lewis', 'Johnny Messner', 'Johnny Nguyen', 'Johnny Pacar', 'Johnny Whitworth', 'Joie Lee', 'Jon Brion', 'Jon Favreau', 'Jon Foo', 'Jon Foster', 'Jon Gries', 'Jon Gunn', 'Jon Hamm', 'Jon Heder', 'Jon Hunter', 'Jon Lovitz', 'Jon Mack', 'Jon Osbeck', 'Jon Polito', 'Jon Seda', 'Jon Stewart', 'Jon Tenney', 'Jonah Bobo', 'Jonathan Blow', 'Jonathan Brandis', 'Jonathan Breck', 'Jonathan Brewer', 'Jonathan Caouette', 'Jonathan D. Mellor', 'Jonathan Frakes', 'Jonathan Hyde', 'Jonathan Jackson', 'Jonathan Mangum', 'Jonathan Morgan Heit', 'Jonathan Sadowski', 'Jonathan Silverman', 'Jonathan Tucker', 'Jonathan Winters', 'Jonathon Trent', 'Jonny Weston', 'Jordan Carlos', 'Jordan Lund', 'Jordan Prentice', 'Jordan Scovel', 'Jordan Trovillion', 'Jordana Brewster', 'Jordana Spiro', 'Jordi Mollà', 'Jordi Vilasuso', 'Jorge Diaz', 'Jorge Garcia', 'Jorge Luis Moreno', 'Jorge Salinas', 'Jorja Fox', 'Jorma Taccone', 'Jose Pablo Cantillo', 'Joseba Ugalde', 'Joseph Campanella', 'Joseph Cotten', 'Joseph Cross', 'Joseph Gilgun', 'Joseph Gordon-Levitt', 'Joseph Julian Soria', 'Joseph Mascolo', 'Joseph Mawle', 'Joseph Pilato', 'Joseph Sikora', 'Josh Charles', 'Josh Gad', 'Josh Hamilton', 'Josh Henderson', 'Josh Hopkins', 'Josh Hutcherson', 'Josh Meyers', 'Josh Pais', 'Josh Robert Thompson', 'Josh Segarra', 'Josh Stamberg', 'Josh Swanson', 'Josh Wingate', 'Josh Zuckerman', 'Joshua Leonard', 'Joshua Mikel', 'Joshua Ormond', 'Joshua Ray Bell', 'Josie Ho', 'Josie Loren', 'Joss Ackland', 'Jossara Jinaro', 'José Ferrer', 'José Wilker', 'Joy Bryant', 'Joyce Van Patten', 'Joyful Drake', 'Jsu Garcia', 'Juan Fernández', 'Juan Luis Galiardo', 'Juan Riedinger', 'Jud Tylor', 'Judd Hirsch', 'Jude Ciccolella', 'Judge Reinhold', 'Judie Aronson', 'Judith Anderson', 'Judith Barsi', 'Judith Chapman', 'Judith Godrèche', 'Judith Hill', \"Judith O'Dea\", 'Judy Davis', 'Judy Greer', 'Judy Marte', 'Juhi Chawla', 'Julene Renee', 'Julia Duffy', 'Julia Garner', 'Julia Jentsch', 'Julia Jones', 'Julia Nickson', 'Julia Ormond', 'Julia Roberts', 'Julia Sawalha', 'Julia Taylor Ross', 'Julian Fellowes', 'Julian Glover', 'Julian Kostov', 'Julian Morris', 'Julian Richings', 'Julian Sands', 'Juliane Köhler', 'Julianna Guill', 'Julie Adams', 'Julie Benz', 'Julie Christie', 'Julie Dawn Cole', 'Julie Gonzalo', 'Julie Kavner', 'Julie LeBreton', 'Julie R. Ølgaard', 'Julie Walters', 'Juliet Stevenson', 'Jun Kunimura', 'June Carter Cash', 'June Diane Raphael', 'June Foray', 'June Lockhart', 'June Squibb', 'Jung-min Hwang', 'Junix Inocian', 'Jurnee Smollett-Bell', 'Justin Chambers', 'Justin Chon', 'Justin Gordon', 'Justin Hall', 'Justin Kirk', 'Justin Rice', 'Justin Theroux', 'Justin Timberlake', 'Justine Waddell', 'Jérôme Deschamps', 'Jørgen Langhelle', 'Jürgen Prochnow', 'KaDee Strickland', 'Kabir Bedi', 'Kacey Clarke', 'Kaitlin Olson', 'Kaitlyn Dever', 'Kaiwi Lyman-Mersereau', 'Kali Rocha', 'Kamatari Fujiwara', 'Kamel Krifa', 'Kamil McFadden', 'Kane Hodder', 'Kang-ho Song', 'Kara Hayward', 'Karan Brar', 'Karen Allen', 'Karen Mok', 'Karen Pittman', 'Karen Young', 'Kari Matchett', 'Kari Wuhrer', 'Karin Dor', 'Karin Konoval', 'Karin Viard', 'Karl Collins', 'Karl E. Landler', 'Karl Johnson', 'Karl Malden', 'Karl Yune', 'Karolina Wydra', 'Karra Elejalde', 'Kasia Smutniak', 'Kassie Wesley DePaiva', 'Kate Burton', 'Kate Capshaw', 'Kate Dickie', 'Kate Dollenmayer', 'Kate Graham', 'Kate Luyben', 'Kate Maberly', 'Kate Magowan', 'Kate McKinnon', 'Kate Upton', 'Kate Walsh', 'Kate Winslet', 'Kate del Castillo', 'Kath Soucie', 'Katharine Isabelle', 'Katharine McPhee', 'Katharine Ross', 'Katherine Boecher', 'Katherine Helmond', 'Katherine LaNasa', 'Katherine McNamara', 'Katherine Parkinson', 'Katherine Waterston', 'Kathleen Freeman', 'Kathleen Kinmont', 'Kathleen Munroe', 'Kathleen Quinlan', 'Kathleen Robertson', 'Kathleen Rose Perkins', 'Kathleen Turner', 'Kathleen Wilhoite', 'Kathryn Erbe', 'Kathryn Joosten', 'Kathryn Morris', 'Kathy Baker', 'Kathy Griffin', 'Kathy Uyen', 'Kati Outinen', 'Katia Winter', 'Katie Aselton', 'Katie Leclerc', 'Katie Lowes', 'Katrina Bowden', 'Katrina Kaif', 'Katt Williams', 'Katy Jurado', 'Katy Mixon', 'Kay Panabaker', 'Kayla Ewell', 'Kayla Jackson', 'Kayla Raparelli', 'Kaylee DeFer', 'Kayvan Novak', 'Kazunari Ninomiya', 'Keanu Reeves', 'Keegan Connor Tracy', 'Keegan-Michael Key', 'Keeley Hawes', 'Keenan Tracey', 'Keenan Wynn', 'Keenen Ivory Wayans', 'Keir Dullea', \"Keir O'Donnell\", 'Keisha Castle-Hughes', 'Keith Allen', 'Keith Carradine', 'Keith Hudson', 'Keith Richards', \"Kel O'Neill\", 'Kelli Barrett', 'Kelli Garner', 'Kelli Williams', 'Kellie Martin', 'Kelly Brook', 'Kelly Carlson', 'Kelly Clarkson', 'Kelly Jo Minter', 'Kelly Keaton', 'Kelly LeBrock', 'Kelly Lin', 'Kelly Lynch', 'Kelly Macdonald', 'Kelly Paterniti', 'Kelly Preston', 'Kelly Reno', 'Kelly Ripa', 'Kelly Rowan', 'Kelly Rutherford', 'Kelsey Grammer', 'Kelvin Han Yee', 'Ken Arnold', 'Ken Bevel', 'Ken Burns', 'Ken Davis', 'Ken Davitian', 'Ken Foree', 'Ken Howard', 'Ken Leung', 'Ken Marino', 'Ken Sansom', 'Ken Siu', 'Ken Takakura', 'Kenan Thompson', 'Kendrick Cross', 'Kendyl Joi', 'Kenneth Colley', 'Kenneth Cranham', 'Kenneth Mars', 'Kenneth Mitchell', 'Kenneth Nkosi', 'Kenneth Tobey', 'Kenneth Williams', 'Kenny Baker', 'Kenny Johnston', 'Kent McCord', 'Keram Malicki-Sánchez', 'Keri Lynn Pratt', 'Kerr Smith', 'Kerry Bishé', 'Kerry Cahill', 'Kerry Condon', 'Keshia Knight Pulliam', 'Kesun Loder', 'Kevin Alejandro', 'Kevin Breznahan', 'Kevin Brown', 'Kevin Chamberlin', 'Kevin Clash', 'Kevin Connolly', 'Kevin Corrigan', 'Kevin Dillon', 'Kevin Dunn', 'Kevin G. Schmidt', 'Kevin Gage', 'Kevin Grevioux', 'Kevin Hamedani', \"Kevin J. O'Connor\", 'Kevin Leslie', 'Kevin McCarthy', 'Kevin McHale', 'Kevin McNally', 'Kevin Michael Richardson', 'Kevin Nash', 'Kevin Nealon', 'Kevin P. Farley', 'Kevin Peter Hall', 'Kevin Pollak', 'Kevin Rahm', 'Kevin Rankin', 'Kevin Scott Richardson', 'Kevin Spacey', 'Kevin Sussman', 'Kevin Tighe', 'Kevin Williamson', 'Kevin Zegers', 'Kevork Malikyan', 'Khalid Abdalla', 'Khamani Griffin', 'Khandi Alexander', 'Khulan Chuluun', 'Ki Hong Lee', 'Kick Gurry', 'Kieran Culkin', 'Kiernan Shipka', 'Kiersey Clemons', 'Kieu Chinh', 'Kim Chan', 'Kim Darby', 'Kim De Angelo', 'Kim Delaney', 'Kim Dickens', 'Kim Director', 'Kim Hunter', 'Kim Shaw', 'Kim Thomson', 'Kimberly Beck', 'Kimberly Elise', 'Kimberly J. Brown', 'Kimberly Williams-Paisley', 'Kiowa Gordon', 'Kip Pardue', 'Kira McLean', 'Kiran Shah', 'Kirby Bliss Blanton', 'Kirby Heyborne', 'Kirk Baltz', 'Kirk Cameron', 'Kirk Fox', 'Kirpatrick Thomas', 'Kirsten Collins', 'Kirsten Day', 'Kirsten Dunst', 'Kirstie Alley', 'Kjell Nilsson', 'Klaus Kinski', 'Klaus Maria Brandauer', 'Kodi Smit-McPhee', 'Konstantin Khabenskiy', 'Konstantin Lavronenko', 'Kostja Ullmann', 'Kris Marshall', 'Kris Sommerville', 'Krista Allen', 'Kristen Connolly', 'Kristen Johnston', 'Kristen Quintrall', 'Kristen Stewart', 'Kristin Booth', 'Kristin Davis', 'Kristin Lehman', 'Kristin Scott Thomas', 'Kristoffer Polaha', 'Kristy Swanson', 'Krysta Rodriguez', 'Kumar Gaurav', 'Kuno Becker', 'Kurt Angle', 'Kurt Fuller', 'Kurt Loder', 'Kurtwood Smith', 'Kwesi Ameyaw', 'Kwok-Kwan Chan', 'Kyla Pratt', 'Kyle Gass', 'Kyle Schmid', 'Kylie Bunbury', 'Kylie Minogue', 'Kyra Nichols', 'Kyra Sedgwick', 'Kyung-gu Sol', 'L.Q. Jones', 'LL Cool J', \"La'Princess Jackson\", 'Laila Haley', 'Lainie Kazan', 'Laird John Hamilton', 'Lalaine', 'Lambert Wilson', 'Lamman Rucker', 'Lance Gross', 'Landon Liboiron', 'Lane Smith', 'Lara Flynn Boyle', 'Lara Jean Chorostecki', 'Lara Jill Miller', 'Lara Pulver', 'Laraine Day', 'Larenz Tate', 'Lark Voorhies', 'Larry Bagby', 'Larry Blamire', 'Larry David', 'Larry Drake', 'Larry Fessenden', 'Larry Hankin', 'Larry Joe Campbell', 'Larry King', 'Larry Miller', 'Larry Mullen Jr.', 'Larry Poindexter', 'Larry the Cable Guy', 'Lars Mikkelsen', 'Lars Ulrich', 'Lateef Crowder', 'Laura Breckenridge', 'Laura Brent', 'Laura Fraser', 'Laura Harring', 'Laura Harris', 'Laura Morante', 'Laura Ramsey', 'Laura San Giacomo', 'Laura Spencer', 'Laura-Leigh', 'Laurel Holloman', 'Lauren Ambrose', 'Lauren C. Mayhew', 'Lauren Cohan', 'Lauren German', 'Lauren Gottlieb', 'Lauren Holly', 'Lauren Lee Smith', 'Lauren London', 'Lauren Sweetser', 'Laurence Fox', 'Laurence Olivier', 'Laurent Poitrenaux', 'Laurie Metcalf', 'Lauryn Hill', 'Lawrence Gilliard Jr.', 'Laz Alonso', 'LeVar Burton', 'Lea Michele', 'Lea Thompson', 'Leah Remini', 'Lee Arenberg', 'Lee Armstrong', 'Lee Evans', 'Lee Ingleby', 'Lee J. Cobb', 'Lee Majors', 'Lee Marvin', 'Lee Norris', 'Lee Remick', 'Lee Scott', 'Lee Tergesen', 'Lee Ving', 'Leigh Whannell', 'Leighton Meester', 'Leila Arcieri', 'Leila Hatami', 'Lela Rochon', 'Leland Orser', 'Leleti Khumalo', 'Lemmy', 'Len Cariou', 'Lena Dunham', 'Lena Horne', 'Lena Olin', 'Lenny Venito', 'Lenore Zann', 'Leo G. Carroll', 'Leo Howard', 'Leo McKern', 'Leon', 'Leon Isaac Kennedy', 'Leon Rippy', 'Leonard Nimoy', 'Leonard Roberts', 'Leonardo DiCaprio', 'Leonid Yarmolnik', 'Leonie Benesch', 'Leonor Varela', 'Leonor Watling', 'Leopold Stokowski', 'Leos Carax', 'Lesley Ann Warren', 'Lesley Manville', 'Lesley Sharp', 'Lesley-Anne Down', 'Leslie Bibb', 'Leslie Carlson', 'Leslie Caron', 'Leslie Hope', 'Leslie Jordan', 'Lester Speight', 'Leticia Brédice', 'Leven Rambin', 'Levon Helm', 'Lew Temple', 'Lex Barker', 'Lex Shrapnel', 'Lexa Doig', 'Lexie Contursi', 'Li Gong', 'Li Jun Li', 'Lia Tucker', 'Liam Aiken', 'Liam James', 'Liam Neeson', 'Liane Balaban', 'Libby Villari', \"Lil' Wayne\", 'Lila Kedrova', 'Lili Taylor', 'Lillete Dubey', 'Lilli Lavine', 'Lillian Adams', 'Lillian Gish', 'Lillo Brancato', 'Lily Atkinson', 'Lily Cole', 'Lily James', 'Lily Rabe', 'Lily Tomlin', 'Lin Shaye', 'Lina Esco', 'Lincoln Hoppe', 'Linda Blair', 'Linda Cardellini', 'Linda Fiorentino', 'Linda Harrison', 'Linda Kozlowski', 'Linda Lovelace', 'Linden Ashby', 'Lindsay Duncan', 'Lindsay Felton', 'Lindsay Kay Hayward', 'Lindsay MacDonald', 'Lindsay Price', 'Lindsay Sloane', 'Lindsay Wagner', 'Lindsey Haun', 'Lindy Booth', 'Linnea Quigley', 'Lino Facioli', 'Linus Roache', 'Lionel Barrymore', 'Lior Ashkenazi', 'Lisa Ann Walter', 'Lisa Bonet', 'Lisa Brave', 'Lisa Edelstein', 'Lisa Gaye', 'Lisa Kay', 'Lisa Ortiz', 'Lisa Pelikan', 'Lisa Ray', 'Lisa Wilcox', 'LisaGay Hamilton', 'LisaRaye McCoy', 'Liv Ullmann', 'Livvy Stubenrauch', 'Liya Kebede', 'Liz Mullane', 'Liza Lapira', 'Liza Minnelli', 'Lizzie Brocheré', 'Ljubomir Kerekes', 'Lloyd Avery II', 'Lloyd Bridges', 'Lloyd Kaufman', 'Loanne Bishop', 'Lobo Sebastian', 'Lochlyn Munro', 'Logan Browning', 'Logan Lerman', 'Lois Chiles', 'Lois Maxwell', 'Lois Smith', 'Lola Dueñas', 'Lola Glaudini', 'Lolita Davidovich', 'Lon Chaney Jr.', 'Long Nguyen', 'Lorelei Linklater', 'Loretta Devine', 'Lori Petty', 'Lori Singer', 'Lorna Raver', 'Lorne Cardinal', 'Lorraine Bracco', 'Lorraine Stanley', 'Lorraine Toussaint', 'Lotte Verbeek', 'Lou Adler', 'Lou Perryman', 'Lou Romano', 'Lou Saliba', 'Lou Taylor Pucci', 'Louis Ferreira', 'Louis Herthum', 'Louis Jourdan', 'Louis Koo', 'Louis Lombardi', 'Louis Mandylor', 'Louis Mustillo', 'Louis Ozawa Changchien', 'Louisa Milwood-Haigh', 'Louise Beavers', 'Louise Brooks', 'Louise Fletcher', 'Louise Lasser', 'Lubna Azabal', 'Lucas Bryant', 'Lucas Grabeel', 'Lucille Ball', 'Lucille La Verne', 'Lucy', 'Lucy Boynton', 'Lucy Fry', 'Lucy Gaskell', 'Lucy Gordon', 'Ludger Pistor', 'Ludivine Sagnier', 'Luenell', 'Luigi Pistilli', 'Luis Antonio', 'Luis E. Carazo', 'Luis Miranda', 'Luis Rosado', 'Luis Sanchez', 'Luis Tosar', \"Luisa D'Oliveira\", 'Luisa Ranieri', 'Lukas Haas', 'Luke Benward', 'Luke Bracey', 'Luke Ford', 'Luke Grimes', 'Luke Kirby', 'Luke Mably', 'Luke Newberry', 'Luke Perry', 'Luke Treadaway', 'Lumi Cavazos', 'Lupe Ontiveros', 'Lusia Strus', 'Lydia Hearst', 'Lydia Wilson', 'Lymari Nadal', 'Lynda Boyd', 'Lynn Cohen', 'Lynn Hung', 'Lynn Redgrave', 'Lynn Whitfield', 'Lynne Thigpen', 'Lysette Anthony', 'Lyubov Agapova', 'Léa Drucker', 'M. Emmet Walsh', 'M.C. Gainey', 'Mac McDonald', 'Macaulay Culkin', 'Mackenzie Aladjem', 'Mackenzie Crook', 'Mackenzie Davis', 'Mackenzie Foy', 'Mackenzie Gray', 'Mackenzie Phillips', 'Madeleine Albright', 'Madeline Carroll', 'Madeline Kahn', 'Madhavan', 'Madhuri Dixit', 'Madison Davenport', 'Madison Lintz', 'Madison McKinley', 'Madison Pettis', 'Madison Rothschild', 'Mae West', 'Maeve Dermody', 'Magda Apanowicz', 'Magda Szubanski', 'Maggie Cheung', 'Maggie Siff', 'Maggie Wheeler', 'Mahadeo Shivraj', 'Mai Charoenpura', 'Maia Morgenstern', 'Maika Monroe', 'Maile Flanagan', 'Mako', 'Malcolm Goodwin', 'Malese Jow', 'Malik Yoba', 'Malika', 'Malone Thomas', 'Man Li', 'Mandy Gonzalez', 'Manish Dayal', 'Manny Perez', 'Manuela Velasco', 'Mara Wilson', 'Marama Corlett', 'Marc Anthony', 'Marc Blucas', 'Marc Donato', 'Marc John Jefferies', 'Marc Macaulay', 'Marc Singer', 'Marc Trottier', 'Marcel Iures', 'Marcela Mar', 'Marcell Nagy', 'Marcella Lentz-Pope', 'Marcello Mastroianni', 'Marcia DeBonis', 'Marcia Wallace', 'Marco Hofschneider', 'Marco St. John', 'Marco Treviño', 'Marcus Chong', 'Marcus Lyle Brown', 'Mare Winningham', 'Marg Helgenberger', 'Margaret Cho', 'Margaret Hamilton', 'Margaret Tracey', 'Margarita Levieva', 'Margo Harshman', 'Margot Kidder', 'Mari Koda', 'Maria Canals-Barrera', 'Maria Conchita Alonso', 'Maria Dizzia', 'Maria Grazia Cucinotta', 'Maria Thayer', 'Mariah Carey', 'Marian Marsh', 'Marian Seldes', 'Maribel Verdú', 'Maricel Álvarez', 'Marie Avgeropoulos', 'Marie Gillain', 'Marie Pillet', 'Marie-Josée Croze', 'Mariel Hemingway', 'Marilyn Burns', 'Marilyn Manson', 'Marilyn Norry', 'Marin Hinkle', 'Marina Golbahari', 'Marina Hands', 'Marina Sirtis', 'Mario Cimarro', 'Mario Lopez', 'Mario Monicelli', 'Mario Van Peebles', 'Marion Ross', 'Marisa Coughlan', 'Marisa Saks', 'Marisol Nichols', 'Mark Addy', 'Mark Bazeley', 'Mark Camacho', 'Mark Christopher Lawrence', 'Mark De Alessandro', 'Mark Duplass', 'Mark Feuerstein', 'Mark Gatiss', 'Mark Hengst', 'Mark L. Young', 'Mark Margolis', 'Mark Moses', 'Mark Rendall', 'Mark Rolston', 'Mark Rylance', 'Mark Torgl', 'Mark Valley', 'Mark Walters', 'Mark Webber', 'Mark Williams', 'Mark Wingett', 'Mark Zupan', 'Marko Zaror', 'Markéta Irglová', 'Marla Gibbs', 'Marla Sokoloff', 'Marlee Matlin', 'Marlene Forte', 'Marley Shelton', 'Marlon Brando', 'Marques Houston', 'Marsha Thomason', 'Marshall Allman', 'Marshall Bell', 'Marta Etura', 'Martha Higareda', 'Martha MacIsaac', 'Martijn Lakemeier', 'Martin Balsam', 'Martin Clunes', 'Martin Dew', 'Martin Donovan', 'Martin Hancock', 'Martin Henderson', 'Martin Kove', 'Martin Landau', 'Martin Lucey', 'Martin Scorsese', 'Martin Semmelrogge', 'Martin Sharpe', 'Martin Short', 'Martin Starr', 'Martina Gedeck', 'Marv Albert', 'Mary Astor', 'Mary Catherine Garrison', 'Mary Elizabeth Mastrantonio', 'Mary J. Blige', 'Mary Kate Wiles', 'Mary Kay Place', 'Mary Lynn Rajskub', 'Mary McCormack', 'Mary McDonnell', 'Mary Mouser', 'Mary Page Keller', 'Mary Tsoni', 'Mary Tyler Moore', 'Mary-Kate Olsen', 'María Alche', 'María Aura', 'María Botto', 'María Valverde', 'Masi Oka', 'Mason Gamble', 'Mason Lee', 'Master P', 'Matheus Nachtergaele', 'Mathieu Amalric', 'Mathieu Kassovitz', 'Matias Varela', 'Matisyahu', 'Matt Bennett', 'Matt Berry', 'Matt Bomer', 'Matt Bushell', 'Matt Cohen', 'Matt Crabtree', 'Matt Craven', 'Matt Damon', 'Matt Day', 'Matt Frewer', 'Matt Gerald', 'Matt Hill', 'Matt Hunter', 'Matt Johnson', 'Matt Jones', 'Matt Keeslar', 'Matt King', 'Matt Letscher', 'Matt Long', 'Matt Lucas', 'Matt Malloy', 'Matt Marr', 'Matt McCoy', \"Matt O'Leary\", 'Matt Price', 'Matt Prokop', 'Matt Ross', 'Matt Schulze', 'Matt Servitto', 'Matt Shively', 'Matt Smith', 'Matt Stone', 'Matt Walsh', 'Matthew Alan', 'Matthew Borlenghi', 'Matthew Broderick', 'Matthew Cowles', 'Matthew Daddario', 'Matthew Feeney', 'Matthew Glave', 'Matthew Gray Gubler', 'Matthew Knight', 'Matthew Lawrence', 'Matthew Macfadyen', 'Matthew McConaughey', 'Matthew McGrory', 'Matthew Modine', 'Matthew Perry', 'Matthew R. Anderson', 'Matthew Settle', 'Matthew Walker', 'Matthew Ziff', 'Matthias Habich', 'Matty Rich', 'Maude Apatow', 'Maura Tierney', 'Maureen McCormick', 'Maurice Compte', 'Maurice LaMarche', 'Maurice Roëves', 'Maury Chaykin', 'Max Adler', 'Max Beesley', 'Max Casella', 'Max Cullen', 'Max Gail', 'Max Minghella', 'Max Records', 'Max Ryan', 'Max Wright', 'Maximilian Schell', 'Maxine Bahns', 'Maya Angelou', 'Maïwenn', 'Mckenna Grace', 'Meat Loaf', 'Meg Crosbie', 'Meg Foster', 'Megalyn Echikunwoke', 'Megan Ambuhl Graner', 'Megan Burns', 'Megan Charpentier', 'Megan Franich', 'Megan Mullally', 'Megan Park', 'Meghan Heffern', 'Meghan Ory', 'Megyn Price', 'Mehcad Brooks', 'Mei Melançon', 'Meisa Kuroki', 'Mekhi Phifer', 'Mekia Cox', 'Mel Blanc', 'Mel Eslyn', 'Mel Ferrer', 'Mel Rodriguez', 'Melanie Griffith', 'Melanie Kinnaman', 'Melanie Papalia', 'Melina Kanakaredes', 'Melinda Clarke', 'Melinda Dillon', 'Melissa Benoist', 'Melissa Bolona', 'Melissa Gilbert', 'Melissa McMeekin', 'Melissa Ordway', 'Melissa Roxburgh', 'Melissa Sagemiller', 'Melissa Sturm', 'Melonie Diaz', 'Melvil Poupaud', 'Melvin Van Peebles', 'Melvyn Douglas', 'Mem Ferda', 'Merab Ninidze', 'Mercedes Morán', 'Meredith Hagner', 'Meredith Scott Lynn', 'Merritt Wever', 'Merry Clayton', 'Meryl Streep', 'Method Man', 'Mews Small', 'Mhairi Calvey', 'Mia Farrow', 'Mia Kirshner', 'Mia Sara', 'Mia Wasikowska', 'Micah Sloat', 'Michael Aaron Milligan', 'Michael Abbott Jr.', 'Michael Angarano', 'Michael Beach', 'Michael Beck', 'Michael Berryman', 'Michael Biehn', 'Michael Bolten', 'Michael Bowen', 'Michael Brandon', 'Michael Byrne', 'Michael C. Williams', 'Michael Cerveris', 'Michael Chernus', 'Michael Cudlitz', 'Michael DeLorenzo', 'Michael Derek', 'Michael Des Barres', 'Michael Dorman', 'Michael Dorn', 'Michael Dudikoff', 'Michael Eisner', 'Michael Elphick', 'Michael Emerson', 'Michael Fassbender', 'Michael Gaston', 'Michael Gough', 'Michael Greyeyes', 'Michael Gross', 'Michael Harding', 'Michael Higgenbottom', 'Michael Hitchcock', 'Michael Horse', 'Michael Imperioli', 'Michael Irby', 'Michael J. Burg', 'Michael J. Morris', 'Michael J. Pollard', 'Michael Jai White', 'Michael Jeter', 'Michael Joiner', 'Michael Jordan', 'Michael Kelly', 'Michael Kitchen', 'Michael Landes', 'Michael Lerner', 'Michael Lonsdale', 'Michael McElhatton', 'Michael McGlone', 'Michael McKean', 'Michael McLafferty', 'Michael McMillian', 'Michael Michele', 'Michael Monks', 'Michael Moore', 'Michael Mosley', 'Michael Nardone', 'Michael Nouri', 'Michael Nyqvist', \"Michael O'Keefe\", \"Michael O'Neill\", 'Michael Palin', 'Michael Papajohn', 'Michael Parks', 'Michael Paré', 'Michael Pollan', 'Michael Potts', 'Michael Rady', 'Michael Rapaport', 'Michael Raymond-James', 'Michael Richards', 'Michael Rispoli', 'Michael Roark', 'Michael Smiley', 'Michael Spears', 'Michael Stuhlbarg', 'Michael Welch', 'Michael Weston', 'Michael Wincott', 'Michael Winslow', 'Michael Wright', 'Michaela McManus', 'Michaela Watkins', 'Michel Bouquet', 'Michel Muller', 'Michel Robin', 'Michel Simon', 'Michele Morrow', 'Michelle Forbes', 'Michelle Hurst', 'Michelle Krusiec', 'Michelle Nolden', 'Michiel Huisman', 'Mick Foley', 'Mick Jagger', 'Mick Lally', 'Mickey Hart', 'Miguel A. Núñez Jr.', 'Miguel Ferrer', 'Miguel Sandoval', 'Miguel Ángel Solá', 'Mihalis Giannatos', 'Mika Boorem', \"Mike 'The Miz' Mizanin\", 'Mike Beckingham', 'Mike Bell', 'Mike Birbiglia', 'Mike Block', 'Mike Colter', 'Mike Dopud', 'Mike Doyle', 'Mike Epps', 'Mike Eshaq', 'Mike Figueroa', 'Mike Howard', 'Mike Huckabee', 'Mike Muscat', 'Mike Nawrocki', \"Mike O'Malley\", 'Mike Starr', 'Mike Tyson', 'Mike Vogel', 'Mike White', 'Mikki Padilla', 'Miko Hughes', 'Mila Kunis', 'Milan Lasica', 'Milla Jovovich', \"Milo O'Shea\", 'Milos Forman', 'Mimi Kirkland', 'Mimi Rogers', 'Min-sik Choi', 'Mindy Kaling', 'Mindy Sterling', 'Ming-Na Wen', 'Mini Anden', 'Mink Stole', 'Minnie Driver', 'Minoru Chiaki', 'Mira Sorvino', 'Miranda Cosgrove', 'Miranda July', 'Miranda Otto', 'Miranda Richardson', 'Mircea Monroe', 'Mireille Enos', 'Miriam Colon', 'Miriam Margolyes', 'Miriam Shor', 'Miriama Smith', 'Mirlan Abdulayev', 'Misha Gabriel Hamilton', 'Mishael Morgan', 'Misty Upham', 'Mitch Pileggi', 'Mitchell Ryan', 'Mithun Chakraborty', 'Mitsuo Iwata', 'Miyu Irino', 'Mo Gallini', \"Mo'Nique\", 'Mohamad Haref Harati', 'Mohammad Amir Naji', 'Moises Arias', 'Mojgan Faramarzi', 'Molly C. Quinn', 'Molly Dunsworth', 'Molly Ephraim', 'Molly Hagan', 'Molly Parker', 'Molly Shannon', 'Mona Marshall', 'Monica Barladeanu', 'Monica Calhoun', 'Monica Keena', 'Monica Potter', 'Monique Candelaria', 'Monique Gabriela Curnen', 'Montgomery Clift', 'Morgan Fairchild', 'Morgan Freeman', 'Morgan Saylor', \"Morgana O'Reilly\", 'Moritz Bleibtreu', 'Munro Chambers', 'Murray Bartlett', 'Murray Hamilton', 'Muse Watson', 'Mustafa Haidari', 'MyAnna Buring', 'Mykel Shannon Jenkins', 'Mykelti Williamson', 'Myrna Loy', 'Mélanie Doutey', 'Mélissa Désormeaux-Poulin', 'Mía Maestro', \"Na'Blonka Durden\", 'Nacho Vigalondo', 'Nadine Labaki', 'Nadine Velazquez', 'Najarra Townsend', 'Nambitha Mpumlwana', 'Nancy Allen', 'Nancy Cartwright', 'Nancy Ison', 'Nancy Kyes', \"Nancy O'Dell\", 'Nancy Travis', 'Nandita Das', 'Naomi Nishida', 'Naomi Watts', 'Nargess Mamizadeh', 'Naseeruddin Shah', 'Nastassja Kinski', 'Nat Faxon', 'Nat Wolff', 'Natalie Canerday', 'Natalie Coughlin', 'Natalie Imbruglia', 'Natalie Lisinska', 'Natalie Mendoza', 'Natalie Portman', 'Natalie Press', 'Natalie Stephany Aguilar', 'Nataliya Vdovina', 'Natalya Bondarchuk', 'Natascha McElhone', 'Natasha Bedingfield', 'Natasha Calis', 'Natasha Gregson Wagner', 'Natasha Henstridge', 'Natasha Lyonne', 'Natasha Richardson', 'Nate Parker', 'Nathalie Baye', 'Nathalie Fay', 'Nathan Jones', 'Nathan Lane', 'Nathan Parsons', 'Nathaniel Lees', 'Nathaniel Parker', 'Nawazuddin Siddiqui', 'Ned Beatty', 'Ned Bellamy', 'Nehemiah Persoff', 'Neil Armstrong', 'Neil Brown Jr.', 'Neil Diamond', 'Neil Flynn', 'Neil Hopkins', 'Neil Maskell', 'Nellie McKay', 'Nellie Sciutto', 'Nels Lennarson', 'Nelson Ascencio', 'Ni Ni', 'Ni Yan', 'Nia Long', 'Nia Peeples', 'Nia Vardalos', 'Niall Horan', 'Nichelle Nichols', 'Nichola Burley', 'Nicholas Aaron', 'Nicholas Bell', 'Nicholas Braun', 'Nicholas Carella', 'Nicholas Elia', 'Nicholas Farrell', 'Nicholas Gonzalez', 'Nicholas Hamilton', 'Nicholas Hammond', 'Nicholas Lea', 'Nicholas Rowe', 'Nicholas Tse', 'Nicholas Turturro', 'Nichole Ceballos', 'Nick Cannon', 'Nick Cassavetes', 'Nick Cave', 'Nick Chinlund', 'Nick Damici', 'Nick Gomez', 'Nick Krause', 'Nick Principe', 'Nick Robinson', 'Nick Searcy', 'Nick Stahl', 'Nick Zano', 'Nicki Aycox', 'Nicky Katt', 'Nicky Naudé', 'Nicol Williamson', 'Nicolas Cage', 'Nicole Ari Parker', 'Nicole Beharie', 'Nicole Dionne', 'Nicole Randall Johnson', 'Nicole Scherzinger', 'Nicole Smolen', 'Nicole Sullivan', 'Nicole de Boer', 'Nicollette Sheridan', 'Niecy Nash', 'Nigel Bruce', 'Nigel Whitmey', 'Niketa Calame', 'Nikki Griffin', 'Nikola Djuricko', 'Nimrat Kaur', 'Nina Arianda', 'Nina Hartley', 'Nina Hoss', 'Nirut Sirichanya', 'Noah Bean', 'Noah Danby', 'Noah Emmerich', 'Noah Huntley', 'Noah Lomax', 'Noah Ringer', 'Noah Segan', 'Noah Taylor', 'Noam Chomsky', 'Noam Jenkins', 'Noel Clarke', 'Noel Fisher', 'Noel Gugliemi', 'Nolan Gerard Funk', 'Nona Gaye', 'Nonso Anozie', 'Nora Arnezeder', 'Nora Dunn', 'Nora Zehetner', 'Norah Jones', 'Norma Aleandro', 'Norman Lloyd', 'Norman Reedus', 'Noureen DeWulf', 'Noémie Lenoir', 'Numan Acar', 'O.J. Simpson', 'Oaklee Pendergast', 'Oana Pellea', 'Oanh Nguyen', 'Obba Babatundé', 'Ocean James', 'Odessa Rae', 'Odeya Rush', 'Ohad Knoller', 'Oksana Akinshina', 'Oleg Taktarov', 'Olesya Rulin', 'Olga Fonda', 'Oliver Cooper', 'Oliver Hudson', 'Oliver James', 'Oliver Platt', 'Oliver Reed', 'Oliver Stark', 'Olivia Alexander', 'Olivia Colman', 'Olivia Cooke', 'Olivia Crocicchia', 'Olivia DeJonge', 'Olivia Munn', 'Olivia Newton-John', 'Olivia Wilde', 'Olivia Williams', \"Olivia d'Abo\", 'Olivier Martinez', 'Olivier Rabourdin', 'Olly Alexander', 'Olympia Dukakis', 'Om Puri', 'Omar Benson Miller', 'Omar Epps', 'Omar Metwally', 'Omar Sy', 'Omari Hardwick', 'Omid Abtahi', 'Omri Katz', 'Oona Laurence', 'Ophelia Lovibond', 'Oprah Winfrey', 'Orla Fitzgerald', 'Orlando Bloom', 'Ornella Muti', 'Orson Bean', 'Osama bin Laden', 'Oscar Gale', 'Osric Chau', 'Ossie Davis', 'Othon Bastos', 'Otto Jespersen', 'Owain Yeoman', 'Owen Burke', 'Owen Kline', 'Owen Teale', 'P.J. Soles', 'Pablo Rago', 'Pablo Rosso', 'Paddy Considine', 'Padraic Delaney', 'Paige Turco', 'Pam Ferris', 'Pamela Anderson', 'Pamela Reed', 'Pamela Salem', 'Paolo Montalban', 'Paolo Seganti', 'Paprika Steen', 'Paris Hilton', 'Park Bench', 'Parker Bagley', 'Parker Riggs', 'Parker Sawyers', 'Parminder Nagra', 'Parry Shen', 'Pat Boone', 'Pat Buchanan', 'Pat Healy', 'Pat Hingle', 'Pat Ryan', 'Patch Darragh', 'Paterson Joseph', 'Patricia Belcher', 'Patricia Heaton', 'Patricia Neal', 'Patricia Raven', 'Patricia Richardson', 'Patricia Tallman', 'Patricia Velasquez', 'Patrick Bergin', 'Patrick Brammall', 'Patrick Cranshaw', 'Patrick Cronin', 'Patrick Fabian', 'Patrick Fischler', 'Patrick Fugit', 'Patrick Gallagher', 'Patrick Kilpatrick', 'Patrick Lyster', 'Patrick Macnee', 'Patrick McGoohan', 'Patrick Muldoon', 'Patrick Renna', 'Patrick St. Esprit', 'Patrick Troughton', 'Patrick Wayne', 'Patrick Wilson', 'Patsy Kensit', \"Patti D'Arbanville\", 'Patti LuPone', 'Patton Oswalt', 'Paul Adelstein', 'Paul Anderson', 'Paul Barber', 'Paul Ben-Victor', 'Paul Blackthorne', 'Paul Borghese', 'Paul Brannigan', 'Paul Brooke', 'Paul Daggett', 'Paul Daniel Ayotte', 'Paul Dooley', 'Paul Eenhoorn', 'Paul F. Tompkins', 'Paul Fix', 'Paul Freeman', 'Paul Gleason', 'Paul Gross', 'Paul Guilfoyle', 'Paul Hogan', 'Paul Kaye', 'Paul Lukas', 'Paul Mazursky', 'Paul McCartney', 'Paul McGann', 'Paul McGill', 'Paul McGillion', 'Paul Michael Glaser', 'Paul Popplewell', 'Paul Sanchez', 'Paul Scheer', 'Paul Schneider', 'Paul Scofield', 'Paul Sheehan', 'Paul Sorvino', 'Paul Sparks', 'Paul T. Taylor', 'Paul Walker', 'Paul Williams', 'Paul Winfield', 'Paula Abdul', 'Paula Garcés', 'Paula Jai Parker', 'Paula Kelly', 'Paula Marshall', 'Paulette Goddard', 'Paulina Gerzon', 'Pauline Collins', 'Pauline McLynn', 'Paulo Costanzo', 'Pawel Szajda', 'Paz Vega', 'Paz de la Huerta', 'Pedro Armendáriz Jr.', 'Pedro Miguel Arce', 'Pei-Pei Cheng', 'Pelé', 'Penelope Ann Miller', 'Penelope Wilton', 'Peng Lin', 'Penn Jillette', 'Penny Balfour', 'Per Christian Ellefsen', 'Perdita Weeks', 'Perrey Reeves', 'Perry King', 'Persis Khambatta', 'Petchtai Wongkamlao', 'Peter Appel', 'Peter Berg', 'Peter Boyle', 'Peter Breck', 'Peter Breitmayer', 'Peter Callan', 'Peter Capaldi', 'Peter Coyote', 'Peter Cushing', 'Peter Dante', 'Peter Dinklage', 'Peter Finch', 'Peter Firth', 'Peter Fonda', 'Peter Gallagher', 'Peter Gerety', 'Peter Graves', 'Peter Greene', 'Peter Hermann', 'Peter Jason', 'Peter Krause', 'Peter Kwong', 'Peter Mark Richman', 'Peter Marquardt', 'Peter McNamara', 'Peter McNicholl', 'Peter McQuinn', 'Peter Mensah', 'Peter Onorati', 'Peter Ostrum', 'Peter Polycarpou', 'Peter Riegert', 'Peter Robbins', 'Peter Sallis', 'Peter Scolari', 'Peter Serafinowicz', 'Peter Sohn', 'Peter Spellos', 'Peter Stickles', 'Peter Ustinov', 'Peter Vaughan', 'Peter Wingfield', 'Peter Youngblood Hills', 'Peyman Moaadi', 'Pfeifer Brown', 'Phaldut Sharma', 'Phil Collins', 'Phil Davis', 'Phil Fish', 'Phil Hartman', 'Phil LaMarr', 'Phil Leeds', 'Phil Silvers', 'Phil Vischer', 'Philip Baker Hall', 'Philip Friedman', 'Philip Glenister', 'Philip Seymour Hoffman', 'Philip Winchester', 'Philippe Labro', 'Philippe Nahon', 'Philippe Noiret', 'Philippe Petit', 'Phill Lewis', 'Phoebe Cates', 'Phoebe Legere', 'Phylicia Rashad', 'Phyllida Law', 'Phyllis Diller', 'Phyllis Smith', 'Pierfrancesco Favino', 'Piero Maggiò', 'Pierre Perrier', 'Pierre Prieur', 'Pink', 'Pip Torrens', 'Piper Laurie', 'Piper Mackenzie Harris', 'Pixie Davies', 'Polly Noonan', 'Polly Walker', 'Pollyanna McIntosh', 'Poppy Montgomery', 'Portia Doubleday', 'Portia de Rossi', 'Powers Boothe', 'Prabhudheva', 'Prateik', 'Preity Zinta', 'Priscilla Presley', 'Pruitt Taylor Vince', 'Purva Bedi', 'Péter Fancsikai', \"Q'orianka Kilcher\", 'Qi Shu', 'Qiu Yuen', 'Quentin Tarantino', 'Quincy Jones', 'Quinton Aaron', 'Quvenzhané Wallis', 'Quynn Ton', 'R. Brandon Johnson', 'R. Marcos Taylor', 'RZA', 'Rab Affleck', 'Rachael Carpani', 'Rachael Harris', 'Rachel Ann Mullins', 'Rachel Blakely', 'Rachel Blanchard', 'Rachel Brosnahan', 'Rachel Crow', 'Rachel Dratch', 'Rachel Griffiths', 'Rachel Hendrix', 'Rachel Korine', 'Rachel Roberts', 'Rachel Skarsten', 'Rachel Sterling', 'Rachel Ticotin', 'Rachel True', 'Radha Mitchell', 'Radivoje Bukvic', 'Rae Dawn Chong', \"Rae'Ven Kelly\", 'Rafe Spall', 'Rain', 'Rainn Wilson', 'Rakie Ayola', 'Ralitsa Paskaleva', 'Ralph Bellamy', 'Ralph Brown', 'Ralph Ineson', 'Ralph Richardson', 'Rami Malek', 'Ramon Rodriguez', 'Ranbir Kapoor', \"Randall 'Tex' Cobb\", 'Randall Duk Kim', 'Randall Park', 'Randeep Hooda', 'Randy Couture', 'Randy Jay Burrell', 'Randy Jones', 'Randy Quaid', 'Randy Wayne', 'Ransford Doherty', 'Raoul Bova', 'Raoul Max Trujillo', 'Raphael Barker', 'Raphael Sbarge', 'Rapulana Seiphemo', 'Raquel Alessi', 'Raquel Elizabeth Ames', 'Raquel Nave', 'Raquel Welch', 'Raul Julia', 'Raven Goodwin', 'Raven-Symoné', 'Rawiri Paratene', 'Ray Charles', 'Ray McKinnon', 'Ray Milland', 'Ray Nicholas', 'Ray Romano', 'Ray Walston', 'Ray Winstone', 'Raymond Burr', 'Raymond Cruz', 'Raymond J. Barry', 'Raza Jaffrey', 'Reba McEntire', 'Rebecca Black', 'Rebecca Budig', 'Rebecca Dayan', 'Rebecca De Mornay', 'Rebecca Gayheart', 'Rebecca Mader', 'Red Skelton', 'Redd Foxx', 'Reece Ritchie', 'Reece Thompson', 'Reef Ireland', 'Reese Mishler', 'Reeve Carney', 'Reg E. Cathey', 'Reggie Lee', 'Regi Davis', 'Regina Casé', 'Regina Hall', 'Reginald Ballard', 'Reginald Owen', 'Reginald VelJohnson', 'Reid Ewing', 'Reiner Schwarz', 'Rekha', 'Rekha Sharma', 'Remo', 'Rene Auberjonois', 'Rene Rosado', 'Rene Russo', 'Renee Faia', 'Renee Leblanc', 'Renee Olstead', 'Reuben Langdon', 'Rex Harrison', 'Rex Linn', 'Reza Sixo Safai', 'Rhea Perlman', 'Rhonda Fleming', 'Rhys Coiro', 'Rhys Wakefield', 'Rian Bishop', 'Ricardo Chavira', 'Ricardo Darín', 'Ricardo Montalban', 'Riccardo Scamarcio', 'Rich Ceraulo', 'Rich Pecci', 'Richard Anderson', 'Richard Basehart', 'Richard Beymer', 'Richard Brake', 'Richard Brancatisano', 'Richard Briers', 'Richard Brooker', 'Richard Bull', 'Richard Burgi', 'Richard Burton', 'Richard Cabral', 'Richard Cetrone', 'Richard Coyle', 'Richard Crenna', 'Richard Dawson', 'Richard Dysart', 'Richard E. Grant', 'Richard Epcar', 'Richard Farnsworth', 'Richard Gant', 'Richard Glover', 'Richard Graham', 'Richard Howland', 'Richard Jaeckel', 'Richard Jewell', 'Richard Johnson', 'Richard Lawson', 'Richard Libertini', 'Richard Linklater', 'Richard Lynch', 'Richard Masur', 'Richard Norton', 'Richard Portnow', 'Richard Roundtree', 'Richard Roxburgh', 'Richard Sammel', 'Richard Schiff', 'Richard Spore', 'Richard T. Jones', 'Richard Thomas', 'Richard Tyson', 'Richard Wilson', 'Rick Aviles', 'Rick Dial', 'Rick Fox', 'Rick Gomez', 'Rick Gonzalez', 'Rick Hoffman', 'Rick Macy', 'Rick Rossovich', 'Rick Worthy', 'Rick Yune', 'Ricky Catter', 'Ricky Martin', 'Ricky Schroder', 'Rie Miyazawa', 'Rie Rasmussen', 'Riki Lindhome', 'Rila Fukushima', 'Riley Smith', 'Riley Thomas Stewart', 'Ringo Starr', 'Rip Torn', 'Rita Davies', 'Rita Hayworth', 'Rita Moreno', 'Rita Wilson', 'Ritchie Coster', 'Ritchie Montgomery', 'Riz Ahmed', 'Rizwan Manji', 'Rob Brown', 'Rob Brydon', 'Rob Campbell', 'Rob Huebel', 'Rob Jarvis', 'Rob McElhenney', 'Rob Moran', 'Rob Morrow', 'Rob Paulsen', 'Rob Riggle', 'Robb Wells', 'Robbie Kay', 'Robert Amaya', 'Robert Baker', 'Robert Beltran', 'Robert Blake', 'Robert Capron', 'Robert Clohessy', 'Robert Costanzo', 'Robert Davi', 'Robert De Niro', 'Robert Downey Jr.', 'Robert Duvall', 'Robert Forster', 'Robert Foxworth', 'Robert Hobbs', 'Robert J. Wilke', 'Robert John Burke', 'Robert Longstreet', 'Robert Lopez', 'Robert Maillet', 'Robert McKee', 'Robert Miano', 'Robert Mitchum', 'Robert Neary', 'Robert Noble', 'Robert Pattinson', 'Robert Peters', 'Robert Picardo', 'Robert Pine', 'Robert Pralgo', 'Robert Prosky', 'Robert Redford', \"Robert Ri'chard\", 'Robert Rusler', 'Robert Shaw', 'Robert Stadlober', 'Robert Taylor', 'Robert Townsend', 'Robert Urich', 'Robert Vaughn', 'Robert Wagner', 'Robert Wahlberg', 'Roberta Valderrama', 'Roberts Blossom', 'Robin Atkin Downes', 'Robin Givens', 'Robin Lord Taylor', 'Robin McLeavy', 'Robin Sachs', 'Robin Shou', 'Robin Weigert', 'Robin Williams', 'Robin Wright', 'Robinne Lee', 'Robyn Lively', 'Rock Hudson', 'Rod Steiger', 'Roddy McDowall', 'Rodger Bumpass', 'Rodney Dangerfield', 'Rodney Eastman', 'Roger Allam', 'Roger Ashton-Griffiths', 'Roger Bart', 'Roger Cross', 'Roger Guenveur Smith', 'Roger Jackson', 'Roger Lloyd Pack', 'Roger Rees', 'Roger Willie', 'Rolando Molina', 'Rollo Weeks', 'Roma Downey', 'Roma Maffia', 'Romain Duris', 'Romane Bohringer', 'Romany Malco', 'Romeo Miller', 'Romi Aboulafia', 'Romola Garai', 'Ron Eldard', 'Ron Gelner', 'Ron Howard', 'Ron Lester', 'Ron Moody', 'Ron Palillo', 'Ron Rifkin', 'Ron Roggé', 'Ron Silver', 'Ronald Colman', 'Ronald Pickup', 'Ronald Reagan', 'Ronit Elkabetz', 'Ronnie Gene Blevins', 'Ronnie Lazaro', 'Ronny Cox', 'Ronny Dayag', 'Rorke Denver', 'Rory Cochrane', 'Rory Culkin', 'Rory Kinnear', 'Rosa Salazar', 'Rosalind Ayres', 'Rosalind Chao', 'Rosalind Harris', 'Rosanna Arquette', 'Rosanna DeSoto', 'Rosario Dawson', 'Roscoe Lee Browne', 'Rose Marie', 'Roseanne Barr', 'Rosemarie DeWitt', 'Roshan Seth', \"Rosie O'Donnell\", 'Rosie Perez', 'Rosie Traynor', 'Ross Elliott', 'Rowan Isaacson', 'Roxanne McKee', 'Roy Billing', 'Roy Dupuis', 'Roy Scheider', 'Royal Dano', 'Ruby Dee', 'Ruby Harris', 'Ruby Jerins', 'Rudolf Klein-Rogge', 'Rudy Youngblood', 'Rufus Graham', 'Rufus Sewell', 'Rumer Willis', 'Rumi Hiiragi', 'Rumi Missabu', 'Rupert Evans', 'Rupert Everett', 'Rupert Graves', 'Rupert Grint', 'Rus Blackwell', 'Russ Tamblyn', 'Russell Hodgkinson', 'Russell Peters', 'Russell Tovey', 'Russell Wong', 'Russi Taylor', 'Ruth Negga', 'Ruth Sheen', 'Ruth Wilson', 'Ryan Bollman', 'Ryan Carnes', 'Ryan Cartwright', 'Ryan Corr', 'Ryan Donowho', 'Ryan Gosling', 'Ryan Guzman', 'Ryan Kennedy', 'Ryan Kruger', 'Ryan McDonald', \"Ryan O'Neal\", 'Ryan Reynolds', 'Ryan Robbins', 'Ryu Kohata', 'Ryôko Hirosue', 'Ryûnosuke Kamiki', 'Rüdiger Vogler', 'S. Epatha Merkerson', 'S. William Hinzman', 'Saad Siddiqui', 'Sabrina Carmichael', 'Sabrina Ferilli', 'Sabrina Revelle', 'Sachiko Ishida', 'Saeed Jaffrey', 'Saffron Burrows', 'Sahajak Boonthanakit', 'Saif Ali Khan', 'Sakae Kimura', 'Sakina Jaffrey', 'Sal Lopez', 'Sal Mineo', 'Salli Richardson-Whitfield', 'Sally Hawkins', 'Sally Kirkland', 'Salma Hayek', 'Salvator Xuereb', 'Sam Adams', 'Sam Anderson', 'Sam Claflin', 'Sam Edwards', 'Sam J. Jones', 'Sam Jaeger', 'Sam Lerner', 'Sam Lloyd', 'Sam McMurray', 'Sam Reid', 'Sam Riley', 'Sam Shepard', 'Sam Trammell', 'Sam Waterston', 'Samaire Armstrong', 'Samantha Barks', 'Samantha Eggar', 'Samantha Esteban', 'Samantha Ivers', 'Samantha Mathis', 'Samantha Morton', 'Sami Gayle', 'Samira Wiley', 'Samm Levine', 'Sammo Kam-Bo Hung', 'Sammy Davis Jr.', 'Sammy Nagi Njuguna', 'Samuel Davis', 'Samuel Roukin', 'Samuel West', 'Sanaa Lathan', 'Sandahl Bergman', 'Sandra Echeverría', 'Sandra Ellis Lafferty', 'Sandra Nelson', 'Sandra Staggs', 'Sandra Vergara', 'Sandrine Holt', 'Sandy Dennis', 'Sanjay Dutt', 'Sanjay Mishra', 'Sanoe Lake', 'Santiago Cabrera', 'Sara Forestier', 'Sara Gilbert', 'Sara Stepnicka', 'Sara Stewart', 'Sarah Butler', 'Sarah Carter', 'Sarah Clarke', 'Sarah Douglas', 'Sarah Drew', 'Sarah Gadon', 'Sarah Kazemy', 'Sarah Michelle Gellar', 'Sarah Parish', 'Sarah Polley', 'Sarah Roemer', 'Sarah Silverman', 'Sarah Solemani', 'Sarah Steele', 'Sarah Wright', 'Sarah Wynter', 'Sarain Boylan', 'Sariann Monaco', 'Sarita Choudhury', 'Sarunyu Wongkrachang', 'Sasha Alexander', 'Sasha Roiz', 'Satish Kaushik', 'Satoshi Tsumabuki', 'Saul Stein', 'Saul Williams', 'Saurabh Shukla', 'Sayed Badreya', 'Saïd Taghmaoui', 'Scarlett Johansson', 'Scatman Crothers', 'Scoot McNairy', 'Scott A. Martin', 'Scott Adsit', 'Scott Baio', 'Scott Cohen', 'Scott Elrod', 'Scott Glenn', 'Scott Grimes', 'Scott Handy', 'Scott Lawrence', 'Scott Levy', 'Scott Mechlowicz', 'Scott Patterson', 'Scott Porter', 'Scott Reeves', 'Scott Schwartz', 'Scott Takeda', 'Scott Vance', 'Scott Weinger', 'Scott Wolf', 'Scout Taylor-Compton', 'Seamus Davey-Fitzpatrick', 'Sean Buchanan', 'Sean Cameron Michael', 'Sean Connery', 'Sean Cook', 'Sean Harris', 'Sean Hayes', 'Sean Huze', 'Sean Keenan', 'Sean Kingston', 'Sean Lennon', 'Sean Maher', 'Sean Michael Afable', 'Sean Patrick Thomas', 'Sean Pertwee', 'Sean Rogerson', 'Sean Whalen', 'Sean Young', 'Sebastian Aguilar', 'Sebastian Blomberg', 'Sebastian Koch', 'Sebastian Roché', 'Sebastian Schipper', 'Sedona James', 'Sedona Legge', 'Seema Biswas', 'Sela Ward', 'Selton Mello', 'Sendhil Ramamurthy', \"Ser'Darius Blain\", 'Serena Grandi', 'Serena Scott Thomas', 'Sergej Trifunovic', 'Sergey Garmash', 'Sergi López', 'Sergio Calderón', 'Sessue Hayakawa', 'Seth Gabel', 'Seth Gilliam', 'Seth MacFarlane', 'Seth Meyers', 'Seu Jorge', 'Seychelle Gabriel', 'Seymour Cassel', 'Shabana Azmi', 'Shad Moss', 'Shah Rukh Khan', 'Shahab Hosseini', 'Shailene Garnett', 'Shailene Woodley', 'Shane Black', 'Shane Brolly', 'Shane Carruth', 'Shane Dawson', 'Shane Hartline', 'Shane Meadows', 'Shane Pollard', 'Shane Rangi', 'Shanley Caswell', 'Shannen Fields', 'Shannon Elizabeth', 'Shannon Tweed', 'Shannon Woodward', 'Shantel VanSanten', 'Sharat Saxena', 'Shari Albert', 'Sharlto Copley', 'Sharon Lawrence', 'Sharon Leal', 'Sharon Small', 'Shaun Evans', 'Shaun Parkes', 'Shaun Sipos', 'Shaun Toub', 'Shaun Weiss', 'Shauna Macdonald', 'Shawn Andrews', 'Shawn Christian', 'Shawn Doyle', 'Shawn Hatosy', 'Shawn Parsons', 'Shawn Roberts', 'Shawn Yue', 'Shawna Waldron', 'Shawnee Smith', 'Shea Whigham', 'Sheila Hancock', 'Shelby Vischer', 'Sheldon Leonard', 'Shelley Conn', 'Shelley Duvall', 'Shelley Hennig', 'Shelley Long', 'Shelley Waggener', 'Shelley Winters', 'Shelly Varod', 'Shenae Grimes-Beech', 'Shengyi Huang', 'Sheridan Smith', 'Sherman Hemsley', 'Sherri Shepherd', 'Sheryl Crow', 'Sheryl Lee', 'Shidô Nakamura', 'Shigeo Kobayashi', 'Shinobu Terajima', 'Shiri Appleby', 'Shirley Douglas', 'Shirley Henderson', 'Shirley Jones', 'Shirley Knight', 'Shona Kay', 'Shriya Saran', 'Shun Oguri', 'Shô Kosugi', 'Si Won Choi', 'Sid Caesar', 'Sid Haig', 'Sidney James', 'Sierra McCormick', 'Sihung Lung', 'Silvia Colloca', 'Silvio Muccino', 'Simon Abkarian', 'Simon Baker', 'Simon Baron-Cohen', 'Simon Callow', 'Simon Chandler', 'Simon McBurney', 'Simon Merrells', 'Simon Rhee', 'Simon Woods', 'Simon Yam', 'Simón Andreu', 'Sina Amedson', 'Siobhan Fallon Hogan', 'Sissy Petropoulou', 'Sissy Spacek', 'Ski Carr', 'Skye McCole Bartusiak', 'Skyler Samuels', 'Slash', 'Slim Pickens', 'Snoop Dogg', \"Sofia Black-D'Elia\", 'Sofia Boutella', 'Sofia Vassilieva', 'Sofie Gråbøl', 'Soledad Villamil', 'Soleyman Pierini', 'Sonia Braga', 'Sonja Sohn', 'Sonoya Mizuno', 'Sook-Yin Lee', 'Sophia Myles', 'Sophie Nélisse', 'Sophie Okonedo', 'Sophie Rois', 'Spencer Breslin', 'Spencer Tracy', 'Spencer Treat Clark', 'Spencer Wilding', 'Sprague Grayden', 'Spring Byington', 'Stacy Edwards', 'Stacy Keach', 'Stafford Douglas', 'Stanislav Ianevski', 'Stanley B. Herman', 'Stanley Blystone', 'Stark Sands', 'Stefan Kapicic', 'Stefania Sandrelli', 'Stefanie Drummond', 'Stephane Gauger', 'Stephanie Berry', 'Stephanie Danielson', 'Stephanie Lemelin', 'Stephanie Leonidas', 'Stephanie March', 'Stephanie Sigman', 'Stephanie Szostak', 'Stephanie Vogt', 'Stephen Amell', 'Stephen Baldwin', 'Stephen Boss', 'Stephen Boyd', 'Stephen Colbert', 'Stephen Collins', 'Stephen Dillane', 'Stephen Graham', 'Stephen Henderson', 'Stephen Macht', 'Stephen Marcus', 'Stephen McHattie', 'Stephen Merchant', 'Stephen Rea', 'Stephen Root', 'Stephen Walters', 'Sterling Jerins', 'Stevan Mena', 'Steve Bannos', 'Steve Bastoni', 'Steve Bisley', 'Steve Burg', 'Steve Buscemi', 'Steve Byers', 'Steve Carell', 'Steve Coogan', 'Steve Duin', 'Steve Guttenberg', 'Steve Harris', 'Steve Harvey', 'Steve Howey', 'Steve Irwin', 'Steve James', 'Steve Le Marquand', 'Steve Oedekerk', 'Steve Pemberton', 'Steve Railsback', 'Steve Reevis', 'Steve Schirripa', 'Steve Whitmire', 'Steve-O', 'Steven Anthony Lawrence', 'Steven Bauer', 'Steven Berkoff', 'Steven Brill', 'Steven Christopher Parker', 'Steven Elder', 'Steven Hill', 'Steven Mackintosh', 'Steven Michael Quezada', 'Steven Waddington', 'Steven Weber', 'Steven Yeun', 'Stevie Wonder', 'Stian Smestad', 'Sticky Fingaz', 'Stig Frode Henriksen', 'Stockard Channing', 'Stuart Margolin', 'Stuart Whitman', 'Stuart Wilson', 'Stéphane Rousseau', 'Sullivan Stapleton', 'Sumalee Montano', 'Summer Phoenix', 'Sung-jun Yoo', 'Sunny Mabrey', 'Suraj Sharma', 'Susan Blommaert', 'Susan Clark', 'Susan Gardner', 'Susan Hogan', 'Susan May Pratt', 'Susan Tyrrell', 'Susan Ward', 'Susanna Thompson', 'Susannah York', 'Susanne Lothar', 'Susie Abromeit', 'Susie Essman', 'Suzie Plakson', 'Suzie Steen', 'Sven Nordin', 'Sven-Ole Thorsen', 'Swami Krishnanad', 'Swoosie Kurtz', 'Syamsul Arifin', 'Sydelle Noel', 'Sydney Penny', 'Sydney Pollack', 'Sylvester Stallone', 'Sylvia Eckhausen', 'Sylvia Syms', 'Synnøve Macody Lund', 'T.C. Stallings', 'T.I.', 'T.J. Thyne', 'T.V. Carpio', 'Tabu', 'Tac Fitzgerald', 'Tadanobu Asano', 'Taika Waititi', 'Takashi Miike', 'Takashi Shimura', 'Takeshi Kaneshiro', 'Takeshi Kusao', 'Takuya Kimura', 'Tal Bachman', 'Talia Shire', 'Talia Zucker', 'Talisa Soto', 'Talulah Riley', 'Tamala Jones', 'Tamar Novas', 'Tamara Glynn', 'Tamara Taylor', 'Tamara Toumanova', 'Tamara Tunie', 'Tammin Sursok', 'Tammy Blanchard', 'Tammy Davis', 'Tamsin Egerton', 'Tania Saulnier', 'Tannishtha Chatterjee', 'Tanya Roberts', 'Tanya van Graan', 'Tao Okamoto', 'Tara Fitzgerald', 'Tara Platt', 'Tara Strohmeier', 'Taran Killam', 'Taron Egerton', 'Tasha Smith', 'Tate Donovan', 'Tate Taylor', \"Tatum O'Neal\", 'Tatyana Ali', 'Tawny Kitaen', 'Taylor Blackwell', 'Taylor Cole', 'Taylor Dooley', 'Taylor Lautner', 'Taylor Negron', 'Taylor Nichols', 'Tchéky Karyo', 'Teala Dunn', 'Ted Cassidy', 'Ted Danson', 'Ted Markland', 'Ted Raimi', 'Ted Wass', 'Ted de Corsia', 'Teddy Sears', 'Telly Savalas', 'Tempestt Bledsoe', 'Temple Grandin', 'Temuera Morrison', 'Tencho Gyalpo', 'Tenoch Huerta', 'Tenzin Thuthob Tsarong', 'Teo Halm', 'Terence Bernie Hines', 'Terence Hill', 'Terence Maynard', 'Teresa Wright', 'Teri Garr', 'Teri Polo', 'Terry', 'Terry Funk', 'Terry Jones', 'Terry Kinney', 'Terry Kiser', \"Terry O'Neill\", 'Terry Pheto', 'Terry Walters', 'Teryl Rothery', 'Tessa Thompson', 'Tesshô Genda', 'Texas Battle', 'Teyonah Parris', 'The Dalai Lama', 'The Edge', 'Thekla Reuten', 'Thelma Ritter', 'Theo James', 'Theodore Bikel', 'Theresa Merritt', 'Theresa Randle', 'Theresa Russell', 'Thom Mathews', 'Thomas Bo Larsen', 'Thomas F. Wilson', 'Thomas Horn', 'Thomas Ian Griffith', 'Thomas Ian Nicholas', 'Thomas Kretschmann', 'Thomas Law', 'Thomas Lennon', 'Thomas McDonell', 'Thomas Middleditch', 'Thomas Mitchell', 'Thomas Robinson', 'Thure Lindhardt', 'Ti West', 'Tia Carrere', 'Tiago Riani', 'Tichina Arnold', 'Tiffany Bolling', 'Tiffany Dupont', 'Tiffany Helm', 'Tiffany Lamb', 'Tika Sumpter', 'Tim Abell', 'Tim Blake Nelson', 'Tim Choate', 'Tim Conway', 'Tim Daly', 'Tim DeKay', 'Tim DeZarn', 'Tim Guinee', 'Tim Gunn', 'Tim Heidecker', 'Tim Holmes', 'Tim Matheson', 'Tim McGraw', 'Tim McInnerny', 'Tim Meadows', 'Tim Pigott-Smith', 'Tim Rose', 'Tim Russ', 'Tim Thomerson', 'Tim Williams', 'Timothy Bottoms', 'Timothy Hutton', 'Timothy Patrick Quill', 'Timothy Van Patten', 'Timothy Webber', 'Timothy West', 'Timothée Chalamet', 'Tina Desai', 'Tina Fey', 'Tina Gilton', 'Tina Louise', 'Tina Turner', 'Tippi Hedren', 'Tisha Campbell-Martin', 'Tiya Sircar', 'Tobey Maguire', 'Tobias Menzies', 'Toby Hemingway', 'Toby Huss', 'Toby Jones', 'Toby Leonard Moore', 'Toby Stephens', 'Tod Fennell', 'Todd Allen', 'Todd Boyce', 'Todd Bridges', 'Todd Field', 'Todd Giebenhain', 'Todd Graff', 'Todd Louiso', 'Todd Stashwick', 'Todd Susman', 'Togo Igawa', 'Tom Amandes', 'Tom Ardavany', 'Tom Arnold', 'Tom Atkins', 'Tom Berenger', 'Tom Bosley', 'Tom Bower', 'Tom Burke', 'Tom Burlinson', 'Tom Cavanagh', 'Tom Conti', 'Tom Cruise', 'Tom Cullen', 'Tom Dreesen', 'Tom Everett', 'Tom Everett Scott', 'Tom Goodman-Hill', 'Tom Guiry', 'Tom Hamann', 'Tom Hanks', 'Tom Hardy', 'Tom Hollander', 'Tom Hughes', 'Tom Hulce', 'Tom Kane', 'Tom McCarthy', 'Tom Noonan', 'Tom Selleck', 'Tom Sizemore', 'Tom Skerritt', 'Tom Stedham', 'Tom Sturridge', 'Tom Virtue', 'Tom Waits', 'Tom Welling', 'Tom Wilkinson', 'Tomiwa Edun', 'Tommy Knight', 'Tommy Pallotta', 'Tommy Sheppard', 'Tommy the Clown', 'Toni Braxton', 'Toni Servillo', 'Tony Alva', 'Tony Amendola', 'Tony Bonner', 'Tony Chiu Wai Leung', 'Tony Corvillo', 'Tony Cox', 'Tony Curran', 'Tony Danza', 'Tony Devon', 'Tony Ganios', 'Tony Goldwyn', 'Tony Jay', 'Tony Kgoroge', 'Tony Lo Bianco', 'Tony Nappo', 'Tony Noble', 'Tony Plana', 'Tony Way', 'Tonya Lee Williams', 'Topher Grace', 'Topol', 'Torey Michael Adkins', 'Tori Spelling', 'Tovah Feldshuh', 'Tracey Walter', 'Traci Lords', 'Tracie Thoms', 'Tracy Camilla Johns', 'Tracy Letts', 'Tracy Middendorf', 'Tracy Morgan', 'Travis Smith', 'Traylor Howard', 'Treat Williams', 'Trent Ford', 'Trenton Rostedt', 'Trevor Blumas', 'Trevor Howard', 'Trevor Morgan', 'Trey Loney', 'Trey Parker', 'Trieu Tran', 'Trine Dyrholm', 'Tristan Mack Wilds', 'Troy Evans', 'Troy Garity', 'Tsianina Joelson', 'Tucker Albrizzi', 'Tuesday Knight', 'Tulku Jamyang Kunga Tenzin', 'Tuppence Middleton', 'Ty Burrell', 'Ty Olsson', 'Ty Parker', 'Tye Sheridan', 'Tygo Gernandt', 'Tyler Hilton', 'Tyler James Williams', 'Tyler Labine', 'Tyler Mane', 'Tyra Banks', 'Tyrone Benskin', 'Tyrone Giordano', 'Tyrone Keogh', 'Tyrone Power', 'Tzi Ma', 'Tómas Lemarquis', 'Udo Kier', 'Ulrich Mühe', 'Ulrich Thomsen', 'Ulrich Tukur', 'Unax Ugalde', 'Ursula Andress', 'Usher Raymond', 'Val Kilmer', 'Valarie Pettiford', 'Valente Rodriguez', 'Valentin Golubenko', 'Valeria Golino', 'Valerie Cruz', 'Valerie Perri', 'Valerie Tian', 'Valérie Lemercier', 'Vanesa Tomasino', 'Vanessa Angel', 'Vanessa Aspillaga', 'Vanessa Ferlito', 'Vanessa Lee Chester', 'Vanessa Lengies', 'Vanessa Marshall', 'Vanessa Martinez', 'Vanessa Matsui', 'Vanessa Ray', 'Vanessa Redgrave', 'Vanessa Williams', 'Vanessa Zima', 'Vanilla Ice', 'Vanity', 'Vanna Bonta', 'Vanna White', 'Vauxhall Jermaine', 'Velibor Topic', 'Venida Evans', 'Venus Schultheis', 'Vera Miles', 'Vera Ngassa', 'Verne Troyer', 'Vernee Watson', 'Vernon Dobtcheff', 'Vernon Wells', 'Veronica Cartwright', 'Veronica Ferres', 'Veronica Taylor', 'Veronika Dash', 'Veronika Vernadskaya', 'Vic Mignogna', 'Vic Morrow', 'Vic Waghorn', 'Vicky Krieps', 'Victor Buono', 'Victor Mature', 'Victor McLaglen', 'Victor Rasuk', 'Victor Rivers', 'Victor Webster', 'Victor Wong', 'Victor Zinck Jr.', 'Victoria Beckham', 'Victoria Learn', 'Victoria Leigh', 'Victoria Smurfit', 'Victoria Thaine', 'Vidya Balan', 'Viggo Mortensen', 'Vin Diesel', 'Vince Colosimo', 'Vince Corazza', 'Vince McMahon', 'Vince Vieluf', 'Vincent Chimato', 'Vincent De Paul', 'Vincent Duvall', 'Vincent Gallo', 'Vincent Guastaferro', 'Vincent Kartheiser', 'Vincent Leclerc', 'Vincent Pastore', 'Vincent Perez', 'Vincent Regan', 'Vincent Schiavelli', 'Vincent Walsh', 'Vinessa Shaw', 'Violante Placido', 'Virginia Capers', 'Virginia Leith', 'Virginia Madsen', 'Virginie Ledoyen', 'Vivica A. Fox', 'Vlad Ivanov', 'Vladimir Garin', 'Vladimir Kulich', 'Vondie Curtis-Hall', 'W. Earl Brown', 'Wade Williams', 'Wagner Moura', 'Wale Ojo', 'Walter Brennan', 'Walter Connolly', 'Walter Koenig', 'Walter Masterson', 'Walter Pidgeon', 'Wanda Sykes', 'Ward G. Smith', 'Waris Ahluwalia', 'Warren Beatty', 'Warren Christie', 'Warren Clarke', 'Warren Oates', 'Wayne Brady', 'Wayne Knight', 'Wayne Pygram', 'Wei Zhao', 'Wendee Lee', 'Wendell Pierce', 'Wendi McLendon-Covey', 'Wendie Malick', 'Wendy Crewson', 'Wendy Raquel Robinson', 'Wes Studi', 'Wesley Jonathan', 'Whit Bissell', 'Whitney Able', \"Wilbur 'Hi-Fi' White\", 'Wilford Brimley', 'Wilhelm von Homburg', 'Will Beinbrink', 'Will Estes', 'Will Ferrell', 'Will Forte', 'Will Geer', 'Will Oldham', 'Will Patton', 'Will Smith', 'Will Wright', 'Will.i.am', 'William Abadie', 'William Atherton', 'William Baldwin', 'William Bassett', 'William Butler', 'William Condos', 'William Devane', 'William Gates', 'William Hickey', 'William Holden', 'William Hootkins', 'William Hurt', 'William Katt', 'William Lee Scott', 'William Lucking', 'William Mapother', 'William McNamara', 'William Miller', 'William Morgan Sheppard', 'William Petersen', 'William Ragsdale', 'William Sanderson', 'William Schallert', 'William Shimell', 'William Shockley', 'William Smith', 'William Windom', 'William Xifaras', 'William Zabka', 'Willie Garson', 'Willie Nelson', 'Willow Smith', 'Wilson Cruz', 'Wilson Guerrero', 'Windell Middlebrooks', 'Winter Ave Zoli', 'Wolfgang Preiss', 'Woo-hee Chun', 'Woo-sung Jung', 'Wood Harris', 'Woody Allen', 'Woody Strode', 'Wray Crawford', 'Xander Berkeley', 'Xzibit', 'Yaakov Peri', 'Yaphet Kotto', 'Yasmine Al Massri', 'Yassie Hawkes', 'Yasuaki Kurata', 'Yaya DaCosta', 'Yayan Ruhian', 'Yayaying Rhatha Phongam', 'Ye Liu', 'Yeardley Smith', 'Yenny Paola Vega', 'Yeong-ae Lee', 'Yetta Gottesman', 'Yolande Moreau', 'Yorick van Wageningen', \"Yousef 'Joe' Sweid\", 'Yuanyuan Gao', 'Yuki Matsuzaki', 'Yul Vazquez', 'Yuqi Zhang', 'Yuri Lowenthal', 'Yuria Nara', 'Yuriy Tsurilo', 'Yuval Diskin', 'Yves Jacques', 'Yvette Mimieux', 'Yvette Nicole Brown', 'Yvonne Zima', 'Yû Aoi', 'Yûki Amami', 'Yûsuke Iseya', 'Zach Callison', 'Zach Galligan', 'Zach Gilford', 'Zach Grenier', 'Zach McGowan', 'Zach Mills', 'Zach Woods', 'Zachary Gordon', 'Zachary Knighton', 'Zachery Ty Bryan', 'Zack Pearlman', 'Zack Ward', 'Zackary Steven Graham', 'Zahava Solomon', 'Zahn McClarnon', 'Zaide Silvia Gutiérrez', 'Zak Orth', 'Zak Penn', 'Zakes Mokae', 'Zan Marolt', 'Zane Holtz', 'Zayn Malik', 'Zelda Rubinstein', 'Zen McGrath', 'Zena Grey', 'Zero Mostel', 'Zhanna Friske', 'Zhengyong Zhang', 'Zinedine Soualem', 'Zoe Kazan', 'Zoe Levin', 'Zoe Ventoura', 'Zoey Deutch', 'Zooey Deschanel', 'Zoë Bell', 'Zoë Kravitz', 'Zoë Poledouris', 'Zubaida Sahar', 'Álex Angulo', 'Émilie Dequenne', 'Óscar Jaenada']\n"
     ]
    }
   ],
   "source": [
    "unique_actors = data['actors'].str.get_dummies(sep='|').columns.tolist()\n",
    "print(unique_actors)"
   ],
   "metadata": {
    "collapsed": false,
    "ExecuteTime": {
     "end_time": "2024-01-26T17:07:22.403222100Z",
     "start_time": "2024-01-26T17:06:53.691829700Z"
    }
   },
   "id": "68cdf14d7054e8a4",
   "execution_count": 32
  },
  {
   "cell_type": "code",
   "outputs": [],
   "source": [
    "for actor in unique_actors:\n",
    "    cur.execute(\"\"\"\n",
    "        INSERT INTO actor (name)\n",
    "        VALUES (%s)\n",
    "        ON CONFLICT (name) DO NOTHING;\n",
    "    \"\"\", (actor,))\n",
    "    \n",
    "conn.commit()"
   ],
   "metadata": {
    "collapsed": false,
    "ExecuteTime": {
     "end_time": "2024-01-26T17:07:30.138580300Z",
     "start_time": "2024-01-26T17:07:22.527233400Z"
    }
   },
   "id": "4abd16b97de5c629",
   "execution_count": 33
  },
  {
   "cell_type": "code",
   "outputs": [],
   "source": [
    "cur.execute(\"\"\"SELECT * FROM actor\"\"\")\n",
    "results = cur.fetchall()\n",
    "df_actor = pd.DataFrame(results)"
   ],
   "metadata": {
    "collapsed": false,
    "ExecuteTime": {
     "end_time": "2024-01-26T17:07:30.314348600Z",
     "start_time": "2024-01-26T17:07:30.163004900Z"
    }
   },
   "id": "d395b7340a6d1ed5",
   "execution_count": 34
  },
  {
   "cell_type": "code",
   "outputs": [
    {
     "data": {
      "text/plain": "         0                   1\n0        1             50 Cent\n1        2  A. Michael Baldwin\n2        3        A.J. Buckley\n3        4         A.J. Langer\n4        5         AJ Michalka\n...    ...                 ...\n5597  5598      Zoë Poledouris\n5598  5599       Zubaida Sahar\n5599  5600         Álex Angulo\n5600  5601     Émilie Dequenne\n5601  5602       Óscar Jaenada\n\n[5602 rows x 2 columns]",
      "text/html": "<div>\n<style scoped>\n    .dataframe tbody tr th:only-of-type {\n        vertical-align: middle;\n    }\n\n    .dataframe tbody tr th {\n        vertical-align: top;\n    }\n\n    .dataframe thead th {\n        text-align: right;\n    }\n</style>\n<table border=\"1\" class=\"dataframe\">\n  <thead>\n    <tr style=\"text-align: right;\">\n      <th></th>\n      <th>0</th>\n      <th>1</th>\n    </tr>\n  </thead>\n  <tbody>\n    <tr>\n      <th>0</th>\n      <td>1</td>\n      <td>50 Cent</td>\n    </tr>\n    <tr>\n      <th>1</th>\n      <td>2</td>\n      <td>A. Michael Baldwin</td>\n    </tr>\n    <tr>\n      <th>2</th>\n      <td>3</td>\n      <td>A.J. Buckley</td>\n    </tr>\n    <tr>\n      <th>3</th>\n      <td>4</td>\n      <td>A.J. Langer</td>\n    </tr>\n    <tr>\n      <th>4</th>\n      <td>5</td>\n      <td>AJ Michalka</td>\n    </tr>\n    <tr>\n      <th>...</th>\n      <td>...</td>\n      <td>...</td>\n    </tr>\n    <tr>\n      <th>5597</th>\n      <td>5598</td>\n      <td>Zoë Poledouris</td>\n    </tr>\n    <tr>\n      <th>5598</th>\n      <td>5599</td>\n      <td>Zubaida Sahar</td>\n    </tr>\n    <tr>\n      <th>5599</th>\n      <td>5600</td>\n      <td>Álex Angulo</td>\n    </tr>\n    <tr>\n      <th>5600</th>\n      <td>5601</td>\n      <td>Émilie Dequenne</td>\n    </tr>\n    <tr>\n      <th>5601</th>\n      <td>5602</td>\n      <td>Óscar Jaenada</td>\n    </tr>\n  </tbody>\n</table>\n<p>5602 rows × 2 columns</p>\n</div>"
     },
     "execution_count": 35,
     "metadata": {},
     "output_type": "execute_result"
    }
   ],
   "source": [
    "df_actor"
   ],
   "metadata": {
    "collapsed": false,
    "ExecuteTime": {
     "end_time": "2024-01-26T17:07:30.617067200Z",
     "start_time": "2024-01-26T17:07:30.340731800Z"
    }
   },
   "id": "f49536a3aa468725",
   "execution_count": 35
  },
  {
   "cell_type": "markdown",
   "source": [
    "#### movie-actor"
   ],
   "metadata": {
    "collapsed": false
   },
   "id": "6276437657eeb608"
  },
  {
   "cell_type": "code",
   "outputs": [],
   "source": [
    "for i, row in data.iterrows():\n",
    "    movie_title = row['movie_title']\n",
    "    actors = row['actors'].split('|')\n",
    "    \n",
    "    for actor in actors:\n",
    "        # 获取当前movie的id\n",
    "        cur.execute(\"\"\"SELECT id FROM movie WHERE movie_title = %s;\"\"\", (movie_title,))\n",
    "        movie_id = cur.fetchone()[0]\n",
    "        \n",
    "        # 获取当前actor的id\n",
    "        cur.execute(\"\"\"SELECT id FROM actor WHERE name = %s;\"\"\", (actor,))\n",
    "        actor_id = cur.fetchone()[0]\n",
    "        \n",
    "        # 插入 movie 和 actor 的关联到movie_actor表\n",
    "        cur.execute(\"\"\"\n",
    "            INSERT INTO movie_actor (movie_id, actor_id)\n",
    "            VALUES (%s, %s)\n",
    "            ON CONFLICT DO NOTHING;\n",
    "        \"\"\", (movie_id, actor_id))\n",
    "\n",
    "# 提交事务至数据库\n",
    "conn.commit()"
   ],
   "metadata": {
    "collapsed": false,
    "ExecuteTime": {
     "end_time": "2024-01-26T17:08:15.622837900Z",
     "start_time": "2024-01-26T17:07:37.968684500Z"
    }
   },
   "id": "b14a7727f5ef7ecc",
   "execution_count": 36
  },
  {
   "cell_type": "code",
   "outputs": [],
   "source": [
    "cur.execute(\"\"\"SELECT * FROM movie_actor\"\"\")\n",
    "results = cur.fetchall()\n",
    "df_movie_actor = pd.DataFrame(results)"
   ],
   "metadata": {
    "collapsed": false,
    "ExecuteTime": {
     "end_time": "2024-01-26T17:08:18.698886100Z",
     "start_time": "2024-01-26T17:08:18.603196200Z"
    }
   },
   "id": "537162326008eab4",
   "execution_count": 37
  },
  {
   "cell_type": "code",
   "outputs": [
    {
     "data": {
      "text/plain": "          0     1\n0         1   725\n1         1  2572\n2         1  5469\n3         2  2662\n4         2  4070\n...     ...   ...\n13616  4542  1153\n13617  4542  1534\n13618  4543  2593\n13619  4543   648\n13620  4543  2676\n\n[13621 rows x 2 columns]",
      "text/html": "<div>\n<style scoped>\n    .dataframe tbody tr th:only-of-type {\n        vertical-align: middle;\n    }\n\n    .dataframe tbody tr th {\n        vertical-align: top;\n    }\n\n    .dataframe thead th {\n        text-align: right;\n    }\n</style>\n<table border=\"1\" class=\"dataframe\">\n  <thead>\n    <tr style=\"text-align: right;\">\n      <th></th>\n      <th>0</th>\n      <th>1</th>\n    </tr>\n  </thead>\n  <tbody>\n    <tr>\n      <th>0</th>\n      <td>1</td>\n      <td>725</td>\n    </tr>\n    <tr>\n      <th>1</th>\n      <td>1</td>\n      <td>2572</td>\n    </tr>\n    <tr>\n      <th>2</th>\n      <td>1</td>\n      <td>5469</td>\n    </tr>\n    <tr>\n      <th>3</th>\n      <td>2</td>\n      <td>2662</td>\n    </tr>\n    <tr>\n      <th>4</th>\n      <td>2</td>\n      <td>4070</td>\n    </tr>\n    <tr>\n      <th>...</th>\n      <td>...</td>\n      <td>...</td>\n    </tr>\n    <tr>\n      <th>13616</th>\n      <td>4542</td>\n      <td>1153</td>\n    </tr>\n    <tr>\n      <th>13617</th>\n      <td>4542</td>\n      <td>1534</td>\n    </tr>\n    <tr>\n      <th>13618</th>\n      <td>4543</td>\n      <td>2593</td>\n    </tr>\n    <tr>\n      <th>13619</th>\n      <td>4543</td>\n      <td>648</td>\n    </tr>\n    <tr>\n      <th>13620</th>\n      <td>4543</td>\n      <td>2676</td>\n    </tr>\n  </tbody>\n</table>\n<p>13621 rows × 2 columns</p>\n</div>"
     },
     "execution_count": 38,
     "metadata": {},
     "output_type": "execute_result"
    }
   ],
   "source": [
    "df_movie_actor"
   ],
   "metadata": {
    "collapsed": false,
    "ExecuteTime": {
     "end_time": "2024-01-26T17:08:22.435180500Z",
     "start_time": "2024-01-26T17:08:22.372662Z"
    }
   },
   "id": "d1be53e1dec85083",
   "execution_count": 38
  },
  {
   "cell_type": "code",
   "outputs": [],
   "source": [
    "# 关闭游标和连接\n",
    "cur.close()\n",
    "conn.close()"
   ],
   "metadata": {
    "collapsed": false,
    "ExecuteTime": {
     "end_time": "2024-01-26T17:09:29.462244500Z",
     "start_time": "2024-01-26T17:09:29.358740Z"
    }
   },
   "id": "13d27ac539e13866",
   "execution_count": 39
  },
  {
   "cell_type": "code",
   "outputs": [],
   "source": [],
   "metadata": {
    "collapsed": false
   },
   "id": "a7b7434858ac089a"
  }
 ],
 "metadata": {
  "kernelspec": {
   "display_name": "Python 3",
   "language": "python",
   "name": "python3"
  },
  "language_info": {
   "codemirror_mode": {
    "name": "ipython",
    "version": 2
   },
   "file_extension": ".py",
   "mimetype": "text/x-python",
   "name": "python",
   "nbconvert_exporter": "python",
   "pygments_lexer": "ipython2",
   "version": "2.7.6"
  }
 },
 "nbformat": 4,
 "nbformat_minor": 5
}
